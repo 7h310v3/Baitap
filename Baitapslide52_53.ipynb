{
  "nbformat": 4,
  "nbformat_minor": 0,
  "metadata": {
    "colab": {
      "name": "Baitapslide52_53.ipynb",
      "private_outputs": true,
      "provenance": [],
      "collapsed_sections": [],
      "authorship_tag": "ABX9TyM+EIJ0tsfIiIjb1R9H5w7c",
      "include_colab_link": true
    },
    "kernelspec": {
      "name": "python3",
      "display_name": "Python 3"
    },
    "language_info": {
      "name": "python"
    }
  },
  "cells": [
    {
      "cell_type": "markdown",
      "metadata": {
        "id": "view-in-github",
        "colab_type": "text"
      },
      "source": [
        "<a href=\"https://colab.research.google.com/github/7h310v3/Baitap/blob/main/Baitapslide52_53.ipynb\" target=\"_parent\"><img src=\"https://colab.research.google.com/assets/colab-badge.svg\" alt=\"Open In Colab\"/></a>"
      ]
    },
    {
      "cell_type": "markdown",
      "metadata": {
        "id": "tpxVGzWCwfI8"
      },
      "source": [
        "\n",
        "\n",
        "```\n",
        "Bài 52\n",
        "```\n",
        "\n"
      ]
    },
    {
      "cell_type": "code",
      "metadata": {
        "id": "z4rUkcfJwed2"
      },
      "source": [
        "#nhập vào số tiền đã vay\n",
        "loanAmount = float(input('Nhap so tien da vay: '))\n",
        "\n",
        "#Nhập vào lãi suất hàng tháng\n",
        "monthlyInteresRate = float(input('Nhap lai suat hang thang: '))\n",
        "\n",
        "#Nhập vào số năm vay\n",
        "numberofyears = int(input('Nhap nhap vao so nam vay: '))\n",
        "\n",
        "#Tính số tiền phải trả hàng tháng\n",
        "monthlyPayment = (loanAmount*monthlyInteresRate)/(1-1/((1+monthlyInteresRate)**(numberofyears*12)))\n",
        "\n",
        "#Tính tổng số tiền phải trả\n",
        "totalPayment =  monthlyPayment*numberofyears*12\n",
        "\n",
        "#In ra số tiền cần trả\n",
        "print(\"Số tiền phải trả hàng tháng là: \", monthlyPayment)\n",
        "\n",
        "#In ra tổng số tiền cần trả\n",
        "print(\"Tổng số tiền cần trả là: \", totalPayment)"
      ],
      "execution_count": null,
      "outputs": []
    },
    {
      "cell_type": "markdown",
      "metadata": {
        "id": "UzZEfy5YwleM"
      },
      "source": [
        "Bài 53"
      ]
    },
    {
      "cell_type": "code",
      "metadata": {
        "id": "NmkQ6f6KwrGT"
      },
      "source": [
        ""
      ],
      "execution_count": null,
      "outputs": []
    }
  ]
}