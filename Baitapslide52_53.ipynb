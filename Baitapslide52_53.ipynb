{
  "nbformat": 4,
  "nbformat_minor": 0,
  "metadata": {
    "colab": {
      "name": "Baitapslide52_53.ipynb",
      "private_outputs": true,
      "provenance": [],
      "collapsed_sections": [],
      "authorship_tag": "ABX9TyOThM+XvUCGb/oGoWZMxxxv",
      "include_colab_link": true
    },
    "kernelspec": {
      "name": "python3",
      "display_name": "Python 3"
    },
    "language_info": {
      "name": "python"
    }
  },
  "cells": [
    {
      "cell_type": "markdown",
      "metadata": {
        "id": "view-in-github",
        "colab_type": "text"
      },
      "source": [
        "<a href=\"https://colab.research.google.com/github/7h310v3/Baitap/blob/main/Baitapslide52_53.ipynb\" target=\"_parent\"><img src=\"https://colab.research.google.com/assets/colab-badge.svg\" alt=\"Open In Colab\"/></a>"
      ]
    },
    {
      "cell_type": "markdown",
      "metadata": {
        "id": "tpxVGzWCwfI8"
      },
      "source": [
        "\n",
        "\n",
        "```\n",
        "Bài 52\n",
        "```\n",
        "\n"
      ]
    },
    {
      "cell_type": "code",
      "metadata": {
        "id": "z4rUkcfJwed2"
      },
      "source": [
        " #nhập vào số tiền đã vay\n",
        "loanAmount = float(input('Nhap so tien da vay: '))\n",
        "\n",
        "#Nhập vào lãi suất hàng tháng\n",
        "monthlyInteresRate = float(input('Nhap lai suat hang thang: '))\n",
        "\n",
        "#Nhập vào số năm vay\n",
        "numberofyears = int(input('Nhap nhap vao so nam vay: '))\n",
        "\n",
        "#Tính số tiền phải trả hàng tháng\n",
        "monthlyPayment = (loanAmount*monthlyInteresRate)/(1-1/((1+monthlyInteresRate)**(numberofyears*12)))\n",
        "\n",
        "#Tính tổng số tiền phải trả\n",
        "totalPayment =  monthlyPayment*numberofyears*12\n",
        "\n",
        "#In ra số tiền cần phải trả hàng thán\n",
        "print(\"Số tiền phải trả hàng tháng là: \", monthlyPayment)\n",
        "\n",
        "#In ra tổng số tiền cần trả\n",
        "print(\"Tổng số tiền cần trả là: \", totalPayment)"
      ],
      "execution_count": null,
      "outputs": []
    },
    {
      "cell_type": "markdown",
      "metadata": {
        "id": "UzZEfy5YwleM"
      },
      "source": [
        "Bài 53"
      ]
    },
    {
      "cell_type": "code",
      "metadata": {
        "id": "NmkQ6f6KwrGT"
      },
      "source": [
        "#Thêm thư viện math\n",
        "import math\n",
        "#nhập toạ độ điểm M(x1,y1)\n",
        "x1 = float(input('Nhap x1: '))\n",
        "y1 = float(input('Nhap y1: '))\n",
        "\n",
        "#Nhập toạ độ điểm N(x2,y2)\n",
        "x2 = float(input('Nhap x2: '))\n",
        "y2 = float(input('Nhap y2: '))\n",
        "\n",
        "#Tính khoảng cách giữa hai điểm MN\n",
        "khoangcach = math.sqrt((x2-x1)**2 + (y2-y1)**2)\n",
        "\n",
        "#In ra khoảng cách giữa 2 điểm MN\n",
        "print(khoangcach)"
      ],
      "execution_count": null,
      "outputs": []
    }
  ]
}