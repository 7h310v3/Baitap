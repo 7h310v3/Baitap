{
  "nbformat": 4,
  "nbformat_minor": 0,
  "metadata": {
    "colab": {
      "name": "Baitap105.ipynb",
      "private_outputs": true,
      "provenance": [],
      "collapsed_sections": [],
      "authorship_tag": "ABX9TyPRuZS4FW2+hkKtsJ4qQxB2",
      "include_colab_link": true
    },
    "kernelspec": {
      "name": "python3",
      "display_name": "Python 3"
    },
    "language_info": {
      "name": "python"
    }
  },
  "cells": [
    {
      "cell_type": "markdown",
      "metadata": {
        "id": "view-in-github",
        "colab_type": "text"
      },
      "source": [
        "<a href=\"https://colab.research.google.com/github/7h310v3/Baitap/blob/main/Baitap105.ipynb\" target=\"_parent\"><img src=\"https://colab.research.google.com/assets/colab-badge.svg\" alt=\"Open In Colab\"/></a>"
      ]
    },
    {
      "cell_type": "code",
      "metadata": {
        "id": "sVf21KgfDgM5"
      },
      "source": [
        "num = float(input(\"Enter number to check: \"))\n",
        "\n",
        "if (num > 0) :\n",
        "  print(num, \"Is positive\")\n",
        "else :\n",
        "  print(num, \"Is Negative\")\n",
        "\n",
        "if (num == 0) :\n",
        "  print (num, \"Is zero\")"
      ],
      "execution_count": null,
      "outputs": []
    },
    {
      "cell_type": "code",
      "metadata": {
        "id": "90Vk8YJhEDYU"
      },
      "source": [
        "num = float(input(\"Enter the first number: \"))\n",
        "num1 = float(input(\"Enter the second number: \"))\n",
        "num2 = float(input(\"Enter the third number: \"))\n",
        "\n",
        "if (num >= num1) and (num >= num2):\n",
        "   max = num\n",
        "elif (num1 >= num) and (num1 >= num2):\n",
        "   max = num1\n",
        "else:\n",
        "   max = num2\n",
        "\n",
        "print(max, \"Is the largest number.\")"
      ],
      "execution_count": null,
      "outputs": []
    },
    {
      "cell_type": "code",
      "metadata": {
        "id": "arNNefX0FwzA"
      },
      "source": [
        "import math\n",
        "\n",
        "num = float(input(\"Enter number to check: \"))\n",
        "\n",
        "if (num > 0) :\n",
        "    print(num, \"Is Positive\")\n",
        "\n",
        "if (num < 0) :\n",
        "    print(num, \"Is Negative\")\n",
        "        \n",
        "if (num == 0) :\n",
        "    print (num, \"Is zero\")\n",
        "\n",
        "if (math.fabs(num) > 1000000) and (math.fabs(num) != 0) :\n",
        "        print(\"Large\")\n",
        "\n",
        "if (math.fabs(num) < 1) and (math.fabs(num) != 0) :\n",
        "        print(\"Small\")"
      ],
      "execution_count": null,
      "outputs": []
    },
    {
      "cell_type": "code",
      "metadata": {
        "id": "nSMuZBWXI-23"
      },
      "source": [
        "day = int(input(\"Enter day number (1-7) : \"))\n",
        "\n",
        "while (day < 1) or (day > 7) :\n",
        "  print(\"\\nYou have entered wrong, please re-enter! \")\n",
        "  day = int(input(\"Enter weekday number (1-7) : \"))\n",
        "\n",
        "if (day == 1) :\n",
        "    print(\"Monday\");\n",
        "\n",
        "elif (day == 2) :\n",
        "    print(\"Tuesday\")\n",
        "\n",
        "elif (day == 3) :\n",
        "    print(\"Wednesday\")\n",
        "\n",
        "elif (day == 4) :\n",
        "    print(\"Thursday\")\n",
        "\n",
        "elif (day == 5) :\n",
        "    print(\"Friday\")\n",
        "\n",
        "elif (day == 6) :\n",
        "    print(\"Saturday\")\n",
        "\n",
        "elif (day == 7) :\n",
        "    print(\"Sunday\")"
      ],
      "execution_count": null,
      "outputs": []
    },
    {
      "cell_type": "code",
      "metadata": {
        "id": "dMDo9jOWM2NC"
      },
      "source": [
        "num1 = float(input(\"Enter the first number: \"))\n",
        "num2 = float(input(\"Enter the second number: \"))\n",
        "\n",
        "num1 = round(num1, 3)\n",
        "num1 /=  1000\n",
        "\n",
        "num2 = round(num2, 3)\n",
        "num2 /= 1000\n",
        "\n",
        "if (num1 == num2):\n",
        "    print(\"They are the same up to three decimal places\")\n",
        "else:\n",
        "    print(\"They are different\")"
      ],
      "execution_count": null,
      "outputs": []
    }
  ]
}