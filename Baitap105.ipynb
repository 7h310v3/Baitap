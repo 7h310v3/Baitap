{
  "nbformat": 4,
  "nbformat_minor": 0,
  "metadata": {
    "colab": {
      "name": "Baitap105.ipynb",
      "private_outputs": true,
      "provenance": [],
      "collapsed_sections": [],
      "authorship_tag": "ABX9TyNyTBjA70slY6c0qlJsgn1K",
      "include_colab_link": true
    },
    "kernelspec": {
      "name": "python3",
      "display_name": "Python 3"
    },
    "language_info": {
      "name": "python"
    }
  },
  "cells": [
    {
      "cell_type": "markdown",
      "metadata": {
        "id": "view-in-github",
        "colab_type": "text"
      },
      "source": [
        "<a href=\"https://colab.research.google.com/github/7h310v3/Baitap/blob/main/Baitap105.ipynb\" target=\"_parent\"><img src=\"https://colab.research.google.com/assets/colab-badge.svg\" alt=\"Open In Colab\"/></a>"
      ]
    },
    {
      "cell_type": "code",
      "metadata": {
        "id": "sVf21KgfDgM5"
      },
      "source": [
        "num = float(input(\"Enter number to check: \"))\n",
        "\n",
        "if num > 0:\n",
        "  print (num,\"Is positive number\")\n",
        "else:\n",
        "  pprint(num,' Is Negative')\n",
        "\n",
        "if num == 0:\n",
        "  print (num,' Is zero')"
      ],
      "execution_count": null,
      "outputs": []
    },
    {
      "cell_type": "code",
      "metadata": {
        "id": "90Vk8YJhEDYU"
      },
      "source": [
        "num = float(input(\"Nhập số đầu tiên: \"))\n",
        "num1 = float(input(\"Nhập số thứ hai: \"))\n",
        "num2 = float(input(\"Nhập số thứ ba: \"))\n",
        "\n",
        "if (num >= num1) and (num >= num2):\n",
        "   max = num\n",
        "elif (num1 >= num) and (num1 >= num2):\n",
        "   max = num1\n",
        "else:\n",
        "   max = num2\n",
        "\n",
        "print(max, \"là số lớn nhất.\")"
      ],
      "execution_count": null,
      "outputs": []
    },
    {
      "cell_type": "code",
      "metadata": {
        "id": "arNNefX0FwzA"
      },
      "source": [
        "import math\n",
        "\n",
        "num = float(input(\"Enter number to check: \"))\n",
        "if num>0:\n",
        "    print (num,\" Is positive number\")\n",
        "    if math.fabs(num)>1000000:\n",
        "        print (\"Large\")\n",
        "if num<0:\n",
        "    print(num,\" Is Negative\")\n",
        "    if math.fabs(num)<1:\n",
        "        print (\"Small\")\n",
        "if num==0:\n",
        "    print (num,\" Is zero\")"
      ],
      "execution_count": null,
      "outputs": []
    },
    {
      "cell_type": "code",
      "metadata": {
        "id": "nSMuZBWXI-23"
      },
      "source": [
        "day = int(input(\"Enter day number (1-7) : \"))\n",
        "\n",
        "while (day <= 1) or (day >= 7):\n",
        "  print(\"\\nPlease enter any day number \")\n",
        "  day = int(input(\"Enter weekday number (1-7) : \"))\n",
        "\n",
        "if day == 1 :\n",
        "    print(\"\\nMonday\");\n",
        "\n",
        "elif day == 2 :\n",
        "    print(\"\\nTuesday\")\n",
        "\n",
        "elif(day == 3) :\n",
        "    print(\"\\nWednesday\")\n",
        "\n",
        "elif(day == 4) :\n",
        "    print(\"\\nThursday\")\n",
        "\n",
        "elif(day == 5) :\n",
        "    print(\"\\nFriday\")\n",
        "\n",
        "elif(day == 6) :\n",
        "    print(\"\\nSaturday\")\n",
        "\n",
        "elif (day == 7) :\n",
        "    print(\"\\nSunday\")"
      ],
      "execution_count": null,
      "outputs": []
    },
    {
      "cell_type": "code",
      "metadata": {
        "id": "dMDo9jOWM2NC"
      },
      "source": [
        ""
      ],
      "execution_count": null,
      "outputs": []
    }
  ]
}