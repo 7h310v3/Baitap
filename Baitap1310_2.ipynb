{
  "nbformat": 4,
  "nbformat_minor": 0,
  "metadata": {
    "colab": {
      "name": "Baitap1310_2.ipynb",
      "private_outputs": true,
      "provenance": [],
      "authorship_tag": "ABX9TyNcgMaPdk14/m3JloNuBzeD",
      "include_colab_link": true
    },
    "kernelspec": {
      "name": "python3",
      "display_name": "Python 3"
    },
    "language_info": {
      "name": "python"
    }
  },
  "cells": [
    {
      "cell_type": "markdown",
      "metadata": {
        "id": "view-in-github",
        "colab_type": "text"
      },
      "source": [
        "<a href=\"https://colab.research.google.com/github/7h310v3/Baitap/blob/main/Baitap1310_2.ipynb\" target=\"_parent\"><img src=\"https://colab.research.google.com/assets/colab-badge.svg\" alt=\"Open In Colab\"/></a>"
      ]
    },
    {
      "cell_type": "code",
      "metadata": {
        "id": "hDlCTTGnbfoW"
      },
      "source": [
        "#Write a Python program to find the number of days in a thang.\n",
        "thang = int(input (\"Nhập tháng (1-12): \"))\n",
        "\n",
        "while (thang > 12) or (thang < 1):\n",
        "  print(\"Nhập sai, xin nhập lại!\")\n",
        "  thang = int(input (\"Nhập tháng (1-12): \"))\n",
        "\n",
        "\n",
        "if (thang == 2):\n",
        "  nam = int(input(\"Nhập năm: \"))\n",
        "  if (nam % 4 == 0) and (nam % 100 != 0) or (nam % 400 == 0):\n",
        "    print(\"29\")\n",
        "  else:\n",
        "    print(\"28\")\n",
        "\n",
        "elif thang >= 8:\n",
        "  if thang % 2 == 0:\n",
        "    print (\"31\")\n",
        "  else:\n",
        "    print (\"30\")\n",
        "\n",
        "elif thang % 2 == 0:\n",
        "  print (\"30\")\n",
        "else:\n",
        "  print (\"31\")"
      ],
      "execution_count": null,
      "outputs": []
    },
    {
      "cell_type": "code",
      "metadata": {
        "id": "qJ4bJJYmeuJT"
      },
      "source": [
        "#2\n",
        "str = input(\"Nhập kí tự cần kiểm tra: \")\n",
        "\n",
        "if (str == \"a\" or str == \"e\" or str == \"i\" or str == \"o\" or str == \"u\"):\n",
        "\tprint(str, \" là nguyên âm.\")\n",
        "else:\n",
        "\tprint(str, \" là phụ âm.\" ) "
      ],
      "execution_count": null,
      "outputs": []
    },
    {
      "cell_type": "code",
      "metadata": {
        "id": "FGCkIgXZhHw0"
      },
      "source": [
        "nam = int(input(\"Nhập năm: \"))\n",
        "\n",
        "if (nam % 4 == 0) and (nam % 100 != 0) or (nam % 400 == 0):\n",
        "    print(\"Đây là năm nhuận\")\n",
        "else:\n",
        "  print(\"Đây không là năm nhuận\")"
      ],
      "execution_count": null,
      "outputs": []
    },
    {
      "cell_type": "code",
      "metadata": {
        "id": "ycAaRxNG6d86"
      },
      "source": [
        "list = []\n",
        "\n",
        "print(\"Nhập 5 số:\")\n",
        "\n",
        "count = 0\n",
        "while (count < 5 ):\n",
        "  list.append(int(input()))\n",
        "  count += 1\n",
        "\n",
        "print(list)\n",
        "\n",
        "count = 0\n",
        "sum = 0\n",
        "while (count < 5):\n",
        "  sum += list[count]\n",
        "  count += 1\n",
        "\n",
        "agv = sum / 5\n",
        "\n",
        "print(\"Tổng của 5 số trên là :\", sum)\n",
        "\n",
        "print(\"Trung bình cộng của 5 số là:\", agv)"
      ],
      "execution_count": null,
      "outputs": []
    }
  ]
}