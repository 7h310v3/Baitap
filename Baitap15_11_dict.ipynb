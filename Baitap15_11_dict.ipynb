{
  "nbformat": 4,
  "nbformat_minor": 0,
  "metadata": {
    "colab": {
      "name": "Baitap15_11_dict.ipynb",
      "provenance": [],
      "collapsed_sections": [],
      "authorship_tag": "ABX9TyOTo5mwdb7Dep0sOJKej/tc",
      "include_colab_link": true
    },
    "kernelspec": {
      "name": "python3",
      "display_name": "Python 3"
    },
    "language_info": {
      "name": "python"
    }
  },
  "cells": [
    {
      "cell_type": "markdown",
      "metadata": {
        "id": "view-in-github",
        "colab_type": "text"
      },
      "source": [
        "<a href=\"https://colab.research.google.com/github/7h310v3/Baitap/blob/main/Baitap15_11_dict.ipynb\" target=\"_parent\"><img src=\"https://colab.research.google.com/assets/colab-badge.svg\" alt=\"Open In Colab\"/></a>"
      ]
    },
    {
      "cell_type": "code",
      "metadata": {
        "colab": {
          "base_uri": "https://localhost:8080/"
        },
        "id": "jmYDB-xChLMf",
        "outputId": "d627a19b-4eb3-417a-d332-f353b9ed8da5"
      },
      "source": [
        "dict = {'Name': 'Zara', 'Age': 7, 'Class': 'First'}\n",
        "print(\"dict['Name']: \", dict['Name'])\n",
        "print(\"dict['Age']: \", dict['Age'])"
      ],
      "execution_count": 2,
      "outputs": [
        {
          "output_type": "stream",
          "name": "stdout",
          "text": [
            "dict['Name']:  Zara\n",
            "dict['Age']:  7\n"
          ]
        }
      ]
    },
    {
      "cell_type": "code",
      "metadata": {
        "colab": {
          "base_uri": "https://localhost:8080/"
        },
        "id": "QusdQCoyhQtK",
        "outputId": "761bc8ed-9993-4a08-9e04-574a87a7e19c"
      },
      "source": [
        "dict1 = {'Name': 'Zara', 'Age': 7, 'Class': 'First'}\n",
        "dict1['Age'] = 8; \n",
        "dict1['School'] = \"DPS School\"; # Add new entry\n",
        "print(\"dict1['Age']: \", dict1['Age'])\n",
        "print(\"dict1['School']: \", dict1['School'])"
      ],
      "execution_count": 5,
      "outputs": [
        {
          "output_type": "stream",
          "name": "stdout",
          "text": [
            "dict1['Age']:  8\n",
            "dict1['School']:  DPS School\n"
          ]
        }
      ]
    },
    {
      "cell_type": "code",
      "metadata": {
        "colab": {
          "base_uri": "https://localhost:8080/"
        },
        "id": "NeXKy-rThrRy",
        "outputId": "13e8c608-2096-4ff5-d8dd-908899ca0fe3"
      },
      "source": [
        "dict1 = {'Name': 'Zara', 'Age': 7, 'Class': 'First'}\n",
        "print(\"Dict: \", dict1)\n",
        "del dict1['Name'] \n",
        "print(\"After del 'Name'\", dict1)\n",
        "dict1.clear()\n",
        "print(\"After clear: \",dict1)\n",
        "del dict1"
      ],
      "execution_count": 38,
      "outputs": [
        {
          "output_type": "stream",
          "name": "stdout",
          "text": [
            "Dict:  {'Name': 'Zara', 'Age': 7, 'Class': 'First'}\n",
            "After del 'Name' {'Age': 7, 'Class': 'First'}\n",
            "After clear:  {}\n"
          ]
        }
      ]
    },
    {
      "cell_type": "code",
      "metadata": {
        "colab": {
          "base_uri": "https://localhost:8080/",
          "height": 69
        },
        "id": "vJ1WC3ADjfs_",
        "outputId": "9a93a486-e3b4-4ff5-ef9c-c4684dce8ec3"
      },
      "source": [
        "d1 = {'Name': 'Zara', 'Age': 7, 'Class': 'First'}\n",
        "\n",
        "print(\"len:\",len(d1))\n",
        "\n",
        "print(\"After change to str\",str(d1))"
      ],
      "execution_count": 18,
      "outputs": [
        {
          "output_type": "stream",
          "name": "stdout",
          "text": [
            "len: 3\n",
            "After change to str {'Name': 'Zara', 'Age': 7, 'Class': 'First'}\n"
          ]
        },
        {
          "output_type": "execute_result",
          "data": {
            "application/vnd.google.colaboratory.intrinsic+json": {
              "type": "string"
            },
            "text/plain": [
              "\"{'Name': 'Zara', 'Age': 7, 'Class': 'First'}thelove\""
            ]
          },
          "metadata": {},
          "execution_count": 18
        }
      ]
    },
    {
      "cell_type": "code",
      "metadata": {
        "colab": {
          "base_uri": "https://localhost:8080/"
        },
        "id": "qkSxKyy-lhoC",
        "outputId": "2f3160b6-fe43-4cc5-9bde-8159d8a32455"
      },
      "source": [
        "d1 = {'Name': 'Zara', 'Age': 7, 'Class': 'First'}\n",
        "\n",
        "print(\"Before clear: \", d1)\n",
        "\n",
        "d2 = d1.copy()\n",
        "\n",
        "d1.clear()\n",
        "\n",
        "print(\"After clear: \", d1)\n",
        "\n",
        "print(\"d2 : \", d2)\n",
        "\n",
        "print(\"Name: \",d2.get(\"Name\"))\n",
        "\n",
        "print(d2.items())\n",
        "\n",
        "print(d2.keys())\n",
        "\n",
        "d1.update(d2)\n",
        "\n",
        "print(d1.values())\n",
        "\n",
        "print(\"After update d2: \", d1)"
      ],
      "execution_count": 37,
      "outputs": [
        {
          "output_type": "stream",
          "name": "stdout",
          "text": [
            "Before clear:  {'Name': 'Zara', 'Age': 7, 'Class': 'First'}\n",
            "After clear:  {}\n",
            "d2 :  {'Name': 'Zara', 'Age': 7, 'Class': 'First'}\n",
            "Name:  Zara\n",
            "dict_items([('Name', 'Zara'), ('Age', 7), ('Class', 'First')])\n",
            "dict_keys(['Name', 'Age', 'Class'])\n",
            "dict_values(['Zara', 7, 'First'])\n",
            "After update d2:  {'Name': 'Zara', 'Age': 7, 'Class': 'First'}\n"
          ]
        }
      ]
    }
  ]
}