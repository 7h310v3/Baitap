{
  "nbformat": 4,
  "nbformat_minor": 0,
  "metadata": {
    "colab": {
      "name": "Baitap1210.ipynb",
      "private_outputs": true,
      "provenance": [],
      "collapsed_sections": [],
      "authorship_tag": "ABX9TyMoO6JaytDrLVUyCoAYFeJv",
      "include_colab_link": true
    },
    "kernelspec": {
      "name": "python3",
      "display_name": "Python 3"
    },
    "language_info": {
      "name": "python"
    }
  },
  "cells": [
    {
      "cell_type": "markdown",
      "metadata": {
        "id": "view-in-github",
        "colab_type": "text"
      },
      "source": [
        "<a href=\"https://colab.research.google.com/github/7h310v3/Baitap/blob/main/Baitap1210.ipynb\" target=\"_parent\"><img src=\"https://colab.research.google.com/assets/colab-badge.svg\" alt=\"Open In Colab\"/></a>"
      ]
    },
    {
      "cell_type": "code",
      "metadata": {
        "id": "Mc9aYeyL4A85"
      },
      "source": [
        "#\n",
        "print(\"Các số chia hết cho 7 nhưng không chia hết cho 5 nằm trong khoảng 10 đến 200 là: \")\n",
        "count = 10\n",
        "\n",
        "while (count <= 200):\n",
        "  if ((count % 7) == 0) and ((count % 5) == 1):\n",
        "    print(count, end = \" \")\n",
        "  count += 1\n",
        "  "
      ],
      "execution_count": null,
      "outputs": []
    },
    {
      "cell_type": "code",
      "metadata": {
        "id": "so3nZx8w6rrM"
      },
      "source": [
        "#Tính giai thừa\n",
        "lim = int(input(\"Nhập số cần tính : \"))\n",
        "\n",
        "while (lim <= 0):\n",
        "  print(\"Nhập sai, xin nhập lại (> 0)\")\n",
        "  lim = int(input(\"Nhập số cần tính : \"))\n",
        "\n",
        "count = 1\n",
        "fac = 1\n",
        "\n",
        "while (count <= lim):\n",
        "  fac *= count\n",
        "  count += 1\n",
        "\n",
        "print(\"Giai thừa của\", lim, \"là: \",fac)"
      ],
      "execution_count": null,
      "outputs": []
    },
    {
      "cell_type": "code",
      "metadata": {
        "id": "hZOPV69q8G1v"
      },
      "source": [
        "#Liệt kê n số fibonaci bé hơn n\n",
        "lim = int(input(\"Nhập giới hạn:\"))\n",
        "\n",
        "while (lim < 0):\n",
        "  print(\"Nhập sai, xin nhập lại!(> 0)\")\n",
        "  lim = int(input(\"Nhập giới hạn: \"))\n",
        "\n",
        "print(\"Fibonacci: \")\n",
        "\n",
        "i, f1, f2 = 0, 0, 1\n",
        "while (i < lim):\n",
        "    print(f1, end = \" \")\n",
        "    f = f1 + f2\n",
        "    f1 = f2\n",
        "    f2 = f\n",
        "    i += 1\n"
      ],
      "execution_count": null,
      "outputs": []
    },
    {
      "cell_type": "code",
      "metadata": {
        "id": "obTsIeGNDuIe"
      },
      "source": [
        "#Liệt kê các số nguyên tố bé hơn n\n",
        "import math\n",
        "\n",
        "lim = int(input(\"Nhập giới hạn: \"))\n",
        "num = 1\n",
        "\n",
        "while (lim < 0):\n",
        "  print(\"Nhập sai, xin nhập lại !(> 0)\")\n",
        "  lim = int(input(\"Nhập giới hạn: \"))\n",
        "\n",
        "while (num < lim):\n",
        "    flag = 0\n",
        "    cus = 2\n",
        "    while (cus <= math.sqrt(num)):\n",
        "        if ((num % cus) == 0):\n",
        "            flag = 1\n",
        "        cus = cus + 1\n",
        "    if (flag == 0 and num != 1):\n",
        "        print(num, end = \" \")\n",
        "    num += 1"
      ],
      "execution_count": null,
      "outputs": []
    },
    {
      "cell_type": "code",
      "metadata": {
        "id": "sy4TiCJo--4b"
      },
      "source": [
        "#Liệt kê n số nguyên tố\n",
        "import math\n",
        "\n",
        "lim = int(input(\"Nhập bao nhiêu số nguyên tố cần in ra: \"))\n",
        "\n",
        "\n",
        "while (lim < 0):\n",
        "  print(\"Nhập sai, xin nhập lại !(> 0)\")\n",
        "  lim = int(input(\"Nhập bao nhiêu số nguyên tố cần in ra: \"))\n",
        "\n",
        "num = 1\n",
        "count = 0\n",
        "while (count < lim):\n",
        "    cus = 2\n",
        "    flag = 0\n",
        "    while (cus <= math.sqrt(num)):\n",
        "        if ((num % cus) == 0):\n",
        "            flag =  1\n",
        "        cus = cus + 1\n",
        "    if (flag == 0 and num != 1):\n",
        "        print(num, end = \" \")\n",
        "        count += 1\n",
        "    num += 1"
      ],
      "execution_count": null,
      "outputs": []
    },
    {
      "cell_type": "code",
      "metadata": {
        "id": "hvU5Vj8JFFQs"
      },
      "source": [
        "#Liệt kê số nguyên tố có 5 chữ số\n",
        "import math\n",
        "\n",
        "lim = int(input(\"Nhập giới hạn: \"))\n",
        "\n",
        "while (lim < 0):\n",
        "  print(\"Nhập sai, xin nhập lại !(> 0)\")\n",
        "  lim = int(input(\"Nhập giới hạn: \"))\n",
        "\n",
        "num = 10001\n",
        "while (num < 100000):\n",
        "    flag = 0\n",
        "    cus = 2\n",
        "    while (cus <= math.sqrt(num)):\n",
        "        if ((num % cus) == 0):\n",
        "            flag = 1\n",
        "        cus = cus + 1\n",
        "    if (flag == 0 and num != 1):\n",
        "        print(num, end = \" \")\n",
        "    num += 1"
      ],
      "execution_count": null,
      "outputs": []
    },
    {
      "cell_type": "code",
      "metadata": {
        "id": "GixpIL-aH3I7"
      },
      "source": [
        "#Tổng các chữ số\n",
        "num = int(input(\"Nhập số: \"))\n",
        "\n",
        "while (num < 0):\n",
        "  print(\"Nhập sai, xin nhập lại !(> 0)\")\n",
        "  num = int(input(\"Nhập giới hạn: \"))\n",
        "\n",
        "sum = 0\n",
        "while (num > 0):\n",
        "    sum += num % 10\n",
        "    num = num // 10\n",
        "\n",
        "print(\"Tổng các chữ số là:\",sum)"
      ],
      "execution_count": null,
      "outputs": []
    },
    {
      "cell_type": "code",
      "metadata": {
        "id": "Tx0hWFLbJoWa"
      },
      "source": [
        "lim = int(input(\"Nhập giới hạn:\"))\n",
        "list = []\n",
        "\n",
        "while (lim < 0):\n",
        "  print(\"Nhập sai, xin nhập lại!(> 0)\")\n",
        "  lim = int(input(\"Nhập giới hạn: \"))\n",
        "\n",
        "i, f1, f2 = 0, 0, 1\n",
        "while (i < lim):\n",
        "    list.append(f1)\n",
        "    f = f1 + f2\n",
        "    f1 = f2\n",
        "    f2 = f\n",
        "    i += 1\n",
        "\n",
        "count = 0\n",
        "while (count < len(list)):\n",
        "    flag = 0\n",
        "    cus = 2\n",
        "    while (cus <= math.sqrt(list[count])):\n",
        "        if ((list[count] % cus) == 0):\n",
        "            flag = 1\n",
        "        cus = cus + 1\n",
        "    if (flag == 0 and list[count] != 1):\n",
        "        print(list[count], end = \" \")\n",
        "    count += 1"
      ],
      "execution_count": null,
      "outputs": []
    }
  ]
}