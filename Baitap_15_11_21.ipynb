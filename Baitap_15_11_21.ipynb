{
  "nbformat": 4,
  "nbformat_minor": 0,
  "metadata": {
    "colab": {
      "name": "Baitap_15_11_21.ipynb",
      "provenance": [],
      "collapsed_sections": [],
      "authorship_tag": "ABX9TyP4y4C7KJRlzSkvAh1Y9oKL",
      "include_colab_link": true
    },
    "kernelspec": {
      "name": "python3",
      "display_name": "Python 3"
    },
    "language_info": {
      "name": "python"
    }
  },
  "cells": [
    {
      "cell_type": "markdown",
      "metadata": {
        "id": "view-in-github",
        "colab_type": "text"
      },
      "source": [
        "<a href=\"https://colab.research.google.com/github/7h310v3/Baitap/blob/main/Baitap_15_11_21.ipynb\" target=\"_parent\"><img src=\"https://colab.research.google.com/assets/colab-badge.svg\" alt=\"Open In Colab\"/></a>"
      ]
    },
    {
      "cell_type": "code",
      "metadata": {
        "colab": {
          "base_uri": "https://localhost:8080/"
        },
        "id": "hZFvKqOvvue_",
        "outputId": "413f88cc-9064-4a22-ecc3-b6c15f5b9a0a"
      },
      "source": [
        "#1\n",
        "list1 = [1, 2, 3, 4, 5, 6, 7 ]\n",
        "\n",
        "print(\"Tổng các phần tử trong list1: \", sum(list1))"
      ],
      "execution_count": 1,
      "outputs": [
        {
          "output_type": "stream",
          "name": "stdout",
          "text": [
            "Tổng các phần tử trong list1:  28\n"
          ]
        }
      ]
    },
    {
      "cell_type": "code",
      "metadata": {
        "colab": {
          "base_uri": "https://localhost:8080/"
        },
        "id": "sEznUOJ1wbfL",
        "outputId": "d6c0ad1b-4e79-4cda-b7cc-31129d54a4a9"
      },
      "source": [
        "#2\n",
        "import numpy\n",
        "list1 = [1, 2, 3, 4, 5, 6, 7 ]\n",
        "\n",
        "print(\"Tích các phần tử trong list1: \", numpy.prod(list1))"
      ],
      "execution_count": 14,
      "outputs": [
        {
          "output_type": "stream",
          "name": "stdout",
          "text": [
            "Tích các phần tử trong list1:  5040\n"
          ]
        }
      ]
    },
    {
      "cell_type": "code",
      "metadata": {
        "colab": {
          "base_uri": "https://localhost:8080/"
        },
        "id": "EURvuYE7w_pu",
        "outputId": "d27857e5-a51f-4071-c924-a0505abbf41a"
      },
      "source": [
        "#3\n",
        "list1 = [1, 2, 3, 4, 5, 6, 7 ]\n",
        "\n",
        "print(\"Phần tử lớn nhất trong list1: \", max(list1))"
      ],
      "execution_count": 5,
      "outputs": [
        {
          "output_type": "stream",
          "name": "stdout",
          "text": [
            "Phần tử lớn nhất trong list1:  7\n"
          ]
        }
      ]
    },
    {
      "cell_type": "code",
      "metadata": {
        "colab": {
          "base_uri": "https://localhost:8080/"
        },
        "id": "G0bX8gFOxKRl",
        "outputId": "bb2d0bbd-9e8c-46c2-ac30-129661dca1fb"
      },
      "source": [
        "#4\n",
        "list1 = [1, 2, 3, 4, 5, 6, 7 ]\n",
        "\n",
        "print(\"Phần tử nhỏ nhất trong list1: \", min(list1))"
      ],
      "execution_count": 6,
      "outputs": [
        {
          "output_type": "stream",
          "name": "stdout",
          "text": [
            "Phần tử nhỏ nhất trong list1:  1\n"
          ]
        }
      ]
    },
    {
      "cell_type": "code",
      "metadata": {
        "colab": {
          "base_uri": "https://localhost:8080/"
        },
        "id": "EnOlckkyxOzY",
        "outputId": "37ee67d7-6d4c-481a-c989-712a1edf7fe6"
      },
      "source": [
        "#5\n",
        "list2 = [5, 6, 8, 3, 0, 8, 7, 4 ]\n",
        "\n",
        "list2.sort(reverse=False)\n",
        "\n",
        "print(\"Sắp sếp tăng dần: \", end = \"\")\n",
        "print(list2)"
      ],
      "execution_count": 12,
      "outputs": [
        {
          "output_type": "stream",
          "name": "stdout",
          "text": [
            "Sắp sếp tăng dần: [0, 3, 4, 5, 6, 7, 8, 8]\n"
          ]
        }
      ]
    },
    {
      "cell_type": "code",
      "metadata": {
        "colab": {
          "base_uri": "https://localhost:8080/"
        },
        "id": "d5VUgl67x-Ed",
        "outputId": "42540bdb-be5c-42b3-db43-51455e0d80ec"
      },
      "source": [
        "#6\n",
        "list2 = [5, 6, 8, 3, 0, 8, 7, 4 ]\n",
        "\n",
        "list2.sort(reverse=True)\n",
        "\n",
        "print(\"Sắp sếp giảm dần: \", end = \"\")\n",
        "print(list2)"
      ],
      "execution_count": 13,
      "outputs": [
        {
          "output_type": "stream",
          "name": "stdout",
          "text": [
            "Sắp sếp giảm dần: [8, 8, 7, 6, 5, 4, 3, 0]\n"
          ]
        }
      ]
    },
    {
      "cell_type": "code",
      "metadata": {
        "colab": {
          "base_uri": "https://localhost:8080/"
        },
        "id": "MRtneJYWyC1A",
        "outputId": "df5a912b-2399-49e0-e8e8-e1b513ecd4d4"
      },
      "source": [
        "#7\n",
        "list2 = [5, 6, 8, 3, 0, 8, 7, 4 ]\n",
        "\n",
        "print(\"Kích thước list2: \", end = \"\")\n",
        "print(len(list2))"
      ],
      "execution_count": 16,
      "outputs": [
        {
          "output_type": "stream",
          "name": "stdout",
          "text": [
            "Kích thước list2: 8\n"
          ]
        }
      ]
    },
    {
      "cell_type": "code",
      "metadata": {
        "colab": {
          "base_uri": "https://localhost:8080/"
        },
        "id": "U9FC38OlyinR",
        "outputId": "eebf604c-0556-4263-e921-638f12b27532"
      },
      "source": [
        "#8\n",
        "import random\n",
        "\n",
        "list2 = [5, 6, 8, 3, 0, 8, 7, 4 ]\n",
        "\n",
        "print(\"Lấy phần tử ngẫu nhiên trong list2:\", random.choice(list2))\n"
      ],
      "execution_count": 18,
      "outputs": [
        {
          "output_type": "stream",
          "name": "stdout",
          "text": [
            "Lấy phần tử ngẫu nhiên trong list2: 7\n"
          ]
        }
      ]
    },
    {
      "cell_type": "code",
      "metadata": {
        "colab": {
          "base_uri": "https://localhost:8080/"
        },
        "id": "1g_gVbzUyws6",
        "outputId": "7d507f2a-6745-486e-e8fc-a0fa6c1b4d5b"
      },
      "source": [
        "#9\n",
        "list1 = [1, 2, 3, 4, 5, 6, 7 ]\n",
        "list2 = [5, 6, 8, 3, 0, 8, 7, 4 ]\n",
        "\n",
        "print(\"list1 + list 2 = \", list1 + list2)"
      ],
      "execution_count": 19,
      "outputs": [
        {
          "output_type": "stream",
          "name": "stdout",
          "text": [
            "list1 + list 2 =  [1, 2, 3, 4, 5, 6, 7, 5, 6, 8, 3, 0, 8, 7, 4]\n"
          ]
        }
      ]
    }
  ]
}