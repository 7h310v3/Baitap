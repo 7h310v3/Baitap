{
  "nbformat": 4,
  "nbformat_minor": 0,
  "metadata": {
    "colab": {
      "name": "Baitap16_11_if_else.ipynb",
      "provenance": [],
      "collapsed_sections": [],
      "authorship_tag": "ABX9TyMpQOqFaNslNFFwVase5avJ",
      "include_colab_link": true
    },
    "kernelspec": {
      "name": "python3",
      "display_name": "Python 3"
    },
    "language_info": {
      "name": "python"
    }
  },
  "cells": [
    {
      "cell_type": "markdown",
      "metadata": {
        "id": "view-in-github",
        "colab_type": "text"
      },
      "source": [
        "<a href=\"https://colab.research.google.com/github/7h310v3/Baitap/blob/main/Baitap16_11_if_else.ipynb\" target=\"_parent\"><img src=\"https://colab.research.google.com/assets/colab-badge.svg\" alt=\"Open In Colab\"/></a>"
      ]
    },
    {
      "cell_type": "code",
      "metadata": {
        "colab": {
          "base_uri": "https://localhost:8080/"
        },
        "id": "k0GzFik7i_rX",
        "outputId": "ebf4b4c4-7950-439f-8f87-566209760553"
      },
      "source": [
        "import getpass\n",
        "#Get inputs\n",
        "u = input(\"username: \")\n",
        "p = getpass.getpass(prompt=\"password: \")\n",
        "#check u & p\n",
        "if u == \"peter\" and p == \"Rj@is2019\":\n",
        "  print(\"Login success\")\n",
        "else:\n",
        "  print(\"Login failure\")\n",
        "\n",
        "print(\"The program end here!\")"
      ],
      "execution_count": 10,
      "outputs": [
        {
          "output_type": "stream",
          "name": "stdout",
          "text": [
            "username: peter\n",
            "password: ··········\n",
            "Login success\n",
            "The program end here!\n"
          ]
        }
      ]
    },
    {
      "cell_type": "code",
      "metadata": {
        "colab": {
          "base_uri": "https://localhost:8080/"
        },
        "id": "akH6u9eBmIIV",
        "outputId": "0d461440-25ec-4a96-8662-03eda75fba43"
      },
      "source": [
        "tt = input(\"true of false: \")\n",
        "\n",
        "if(tt.upper() == \"TRUE\"):\n",
        "  print(\"Đúng\")\n",
        "else:\n",
        "  print(\"Sai\")\n",
        "\n",
        "print(\"Kết thúc!\")"
      ],
      "execution_count": 9,
      "outputs": [
        {
          "output_type": "stream",
          "name": "stdout",
          "text": [
            "true of falsetrue\n",
            "Đúng\n",
            "Kết thúc!\n"
          ]
        }
      ]
    },
    {
      "cell_type": "code",
      "metadata": {
        "colab": {
          "base_uri": "https://localhost:8080/"
        },
        "id": "InPFjaMqodzP",
        "outputId": "ee96b51d-653e-4d74-d749-f973c1a2f832"
      },
      "source": [
        "#1\n",
        "num = float(input(\"Enter number to check: \"))\n",
        "\n",
        "if (num > 0) :\n",
        "  print(num, \"Is positive\")\n",
        "else :\n",
        "  print(num, \"Is Negative\")\n",
        "\n",
        "if (num == 0) :\n",
        "  print (num, \"Is zero\")"
      ],
      "execution_count": 33,
      "outputs": [
        {
          "output_type": "stream",
          "name": "stdout",
          "text": [
            "Enter number to check: 98\n",
            "98.0 Is positive\n"
          ]
        }
      ]
    },
    {
      "cell_type": "code",
      "metadata": {
        "colab": {
          "base_uri": "https://localhost:8080/"
        },
        "id": "W3_e8gB8pq7x",
        "outputId": "ead4b9d3-7c94-4107-f0dd-1be142e7a2b4"
      },
      "source": [
        "#2\n",
        "num = float(input(\"Enter the first number: \"))\n",
        "num1 = float(input(\"Enter the second number: \"))\n",
        "num2 = float(input(\"Enter the third number: \"))\n",
        "\n",
        "if(num >= num1) and (num >= num2):\n",
        "   max = num\n",
        "elif(num1 >= num2):\n",
        "   max = num1\n",
        "else:\n",
        "   max = num2\n",
        "\n",
        "print(max, \"Is the largest number.\")"
      ],
      "execution_count": 26,
      "outputs": [
        {
          "output_type": "stream",
          "name": "stdout",
          "text": [
            "Enter the first number: 9832\n",
            "Enter the second number: 8182\n",
            "Enter the third number: 09412\n",
            "9832.0 Is the largest number.\n"
          ]
        }
      ]
    },
    {
      "cell_type": "code",
      "metadata": {
        "colab": {
          "base_uri": "https://localhost:8080/"
        },
        "id": "8eG3QXvdrIIK",
        "outputId": "1f22d7d8-0ead-4418-ae51-276658e0e86f"
      },
      "source": [
        "#4\n",
        "import math\n",
        "\n",
        "num = float(input(\"Enter number to check: \"))\n",
        "\n",
        "if (num > 0) :\n",
        "    print(num, \"Is Positive\")\n",
        "\n",
        "if (num < 0) :\n",
        "    print(num, \"Is Negative\")\n",
        "        \n",
        "if (num == 0) :\n",
        "    print (num, \"Is zero\")\n",
        "\n",
        "if (math.fabs(num) > 1000000) and (math.fabs(num) != 0) :\n",
        "        print(\"Large\")\n",
        "\n",
        "if (math.fabs(num) < 1) and (math.fabs(num) != 0) :\n",
        "        print(\"Small\")"
      ],
      "execution_count": 30,
      "outputs": [
        {
          "output_type": "stream",
          "name": "stdout",
          "text": [
            "Enter number to check: 999999999\n",
            "999999999.0 Is Positive\n",
            "Large\n"
          ]
        }
      ]
    },
    {
      "cell_type": "code",
      "metadata": {
        "colab": {
          "base_uri": "https://localhost:8080/"
        },
        "id": "5b7Q-oH2uUMJ",
        "outputId": "006d0ef2-f5c2-4aaa-c899-d7dc54e8a45f"
      },
      "source": [
        "day = int(input(\"Enter day number (1-7) : \"))\n",
        "\n",
        "while (day < 1) or (day > 7) :\n",
        "  print(\"\\nYou have entered wrong, please re-enter! \")\n",
        "  day = int(input(\"Enter weekday number (1-7) : \"))\n",
        "\n",
        "if (day == 1) :\n",
        "  print(\"Sunday\")\n",
        "elif (day == 2) :\n",
        "  print(\"Monday\");\n",
        "elif (day == 3) :\n",
        "  print(\"Tuesday\")\n",
        "elif (day == 4) :\n",
        "  print(\"Wednesday\")\n",
        "elif (day == 5) :\n",
        "  print(\"Thursday\")\n",
        "elif (day == 6) :\n",
        "  print(\"Friday\")\n",
        "elif (day == 7) :\n",
        "  print(\"Saturday\")"
      ],
      "execution_count": 31,
      "outputs": [
        {
          "output_type": "stream",
          "name": "stdout",
          "text": [
            "Enter day number (1-7) : 0\n",
            "\n",
            "You have entered wrong, please re-enter! \n",
            "Enter weekday number (1-7) : 8\n",
            "\n",
            "You have entered wrong, please re-enter! \n",
            "Enter weekday number (1-7) : 12\n",
            "\n",
            "You have entered wrong, please re-enter! \n",
            "Enter weekday number (1-7) : 4\n",
            "Wednesday\n"
          ]
        }
      ]
    },
    {
      "cell_type": "code",
      "metadata": {
        "colab": {
          "base_uri": "https://localhost:8080/"
        },
        "id": "0AUTTZHzufvn",
        "outputId": "52649e6d-9a8f-49b5-9385-510548ce9265"
      },
      "source": [
        "import math\n",
        "num1 = float(input(\"Enter the first number: \"))\n",
        "num2 = float(input(\"Enter the second number: \"))\n",
        "\n",
        "num1 = math.floor(num1*1000)\n",
        "\n",
        "num2 = math.floor(num2*1000)\n",
        "\n",
        "if (num1 == num2):\n",
        "    print(\"They are the same up to three decimal places\")\n",
        "else:\n",
        "    print(\"They are different\")"
      ],
      "execution_count": 32,
      "outputs": [
        {
          "output_type": "stream",
          "name": "stdout",
          "text": [
            "Enter the first number: 25.98799\n",
            "Enter the second number: 25.98712\n",
            "They are the same up to three decimal places\n"
          ]
        }
      ]
    }
  ]
}