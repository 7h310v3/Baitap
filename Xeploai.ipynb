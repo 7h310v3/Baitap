{
  "nbformat": 4,
  "nbformat_minor": 0,
  "metadata": {
    "colab": {
      "name": "Xeploai.ipynb",
      "provenance": [],
      "collapsed_sections": [],
      "authorship_tag": "ABX9TyPuHHcMEY+b6WTl9cGVyubM",
      "include_colab_link": true
    },
    "kernelspec": {
      "name": "python3",
      "display_name": "Python 3"
    },
    "language_info": {
      "name": "python"
    }
  },
  "cells": [
    {
      "cell_type": "markdown",
      "metadata": {
        "id": "view-in-github",
        "colab_type": "text"
      },
      "source": [
        "<a href=\"https://colab.research.google.com/github/7h310v3/Baitap/blob/main/Xeploai.ipynb\" target=\"_parent\"><img src=\"https://colab.research.google.com/assets/colab-badge.svg\" alt=\"Open In Colab\"/></a>"
      ]
    },
    {
      "cell_type": "code",
      "metadata": {
        "colab": {
          "base_uri": "https://localhost:8080/"
        },
        "id": "PnsPXKB0qsdj",
        "outputId": "cf5542fe-624c-4220-f8d7-7425fa19405e"
      },
      "source": [
        "diem = float(input(\"Nhập điểm trung bình:\"))\n",
        "\n",
        "while (diem < 0) or (diem > 10):\n",
        "  print(\"Nhập sai, xin nhập lại!(>0)\")\n",
        "  diem = float(input(\"Nhập điểm trung bình:\"))\n",
        "\n",
        "if (diem < 5):\n",
        "  print(\"Học lực yếu\");\n",
        "elif (diem >= 5) and (diem < 7):\n",
        "  print(\"Học lực trung bình\")\n",
        "elif (diem >= 7 and diem < 9):\n",
        "  print(\"Học lực khá\")\n",
        "elif (diem >= 9):\n",
        "  print(\"Học lực giỏi\")\n"
      ],
      "execution_count": 4,
      "outputs": [
        {
          "output_type": "stream",
          "name": "stdout",
          "text": [
            "Nhập điểm trung bình:6\n",
            "Học lực trung bình\n"
          ]
        }
      ]
    }
  ]
}