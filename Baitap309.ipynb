{
  "nbformat": 4,
  "nbformat_minor": 0,
  "metadata": {
    "colab": {
      "name": "Baitap309.ipynb",
      "provenance": [],
      "authorship_tag": "ABX9TyN56dAwtFDk3AhHMbPHR+Sx",
      "include_colab_link": true
    },
    "kernelspec": {
      "name": "python3",
      "display_name": "Python 3"
    },
    "language_info": {
      "name": "python"
    }
  },
  "cells": [
    {
      "cell_type": "markdown",
      "metadata": {
        "id": "view-in-github",
        "colab_type": "text"
      },
      "source": [
        "<a href=\"https://colab.research.google.com/github/7h310v3/Baitap/blob/main/Baitap309.ipynb\" target=\"_parent\"><img src=\"https://colab.research.google.com/assets/colab-badge.svg\" alt=\"Open In Colab\"/></a>"
      ]
    },
    {
      "cell_type": "code",
      "metadata": {
        "id": "HB5BQM28U38r"
      },
      "source": [
        "#Tạo list \n",
        "list = [9, 5, 3, 8, 4, 2]\n",
        "list1 = [81, 97, 18, 19, 20]"
      ],
      "execution_count": 48,
      "outputs": []
    },
    {
      "cell_type": "code",
      "metadata": {
        "colab": {
          "base_uri": "https://localhost:8080/"
        },
        "id": "d1JccY1eWRv5",
        "outputId": "88b028b3-9672-4a0f-ee44-1dfe21f3a749"
      },
      "source": [
        "#1\n",
        "print(\"Tổng các phần tử trong list: \", sum(list))"
      ],
      "execution_count": 39,
      "outputs": [
        {
          "output_type": "stream",
          "name": "stdout",
          "text": [
            "Tổng các phần tử trong list:  31\n"
          ]
        }
      ]
    },
    {
      "cell_type": "code",
      "metadata": {
        "colab": {
          "base_uri": "https://localhost:8080/"
        },
        "id": "7Ns-w1Q7WgdH",
        "outputId": "fa2b165f-8b2b-4cc6-a308-ea0dea1aafd2"
      },
      "source": [
        "#2\n",
        "i = 0\n",
        "x = 1\n",
        "while i < len(list):\n",
        "  x = x * list[i]\n",
        "  i += 1\n",
        "print(x)"
      ],
      "execution_count": 54,
      "outputs": [
        {
          "output_type": "stream",
          "name": "stdout",
          "text": [
            "8640\n"
          ]
        }
      ]
    },
    {
      "cell_type": "code",
      "metadata": {
        "colab": {
          "base_uri": "https://localhost:8080/"
        },
        "id": "YPlvuGsnYV5-",
        "outputId": "4b0dae05-9008-4058-85b4-adcc63dfdf7e"
      },
      "source": [
        "#3\n",
        "print(\"Max list = \",max(list))"
      ],
      "execution_count": 44,
      "outputs": [
        {
          "output_type": "stream",
          "name": "stdout",
          "text": [
            "Max list =  9\n"
          ]
        }
      ]
    },
    {
      "cell_type": "code",
      "metadata": {
        "colab": {
          "base_uri": "https://localhost:8080/"
        },
        "id": "ibgRllPrYm6R",
        "outputId": "a017a9a7-f69e-4f7e-a1df-9b936249b95e"
      },
      "source": [
        "#4\n",
        "print(\"Min list = \",min(list))"
      ],
      "execution_count": 43,
      "outputs": [
        {
          "output_type": "stream",
          "name": "stdout",
          "text": [
            "Min list =  2\n"
          ]
        }
      ]
    },
    {
      "cell_type": "code",
      "metadata": {
        "colab": {
          "base_uri": "https://localhost:8080/"
        },
        "id": "6P039My6Y2ON",
        "outputId": "e0589f84-b757-4c39-8403-e8ee42a4a2d4"
      },
      "source": [
        "#5\n",
        "list.sort()\n",
        "print(\"Sắp xếp tăng dần: \", list)"
      ],
      "execution_count": 42,
      "outputs": [
        {
          "output_type": "stream",
          "name": "stdout",
          "text": [
            "Sắp xếp tăng dần:  [2, 3, 4, 5, 8, 9]\n"
          ]
        }
      ]
    },
    {
      "cell_type": "code",
      "metadata": {
        "colab": {
          "base_uri": "https://localhost:8080/"
        },
        "id": "hLfdH6RHaFGD",
        "outputId": "759a10d5-e707-499c-ba9b-287ee634e799"
      },
      "source": [
        "#6\n",
        "list.sort(reverse=True)\n",
        "print(\"Sắp xếp giảm dần:\", list)"
      ],
      "execution_count": 41,
      "outputs": [
        {
          "output_type": "stream",
          "name": "stdout",
          "text": [
            "Sắp xếp giảm dần: [9, 8, 5, 4, 3, 2]\n"
          ]
        }
      ]
    },
    {
      "cell_type": "code",
      "metadata": {
        "colab": {
          "base_uri": "https://localhost:8080/"
        },
        "id": "XYzzcZf7aNy2",
        "outputId": "d5369c7c-7333-49d3-c56e-482b79ce6fe4"
      },
      "source": [
        "#7\n",
        "print(\"Kích thước của list:\",len(list))"
      ],
      "execution_count": 40,
      "outputs": [
        {
          "output_type": "stream",
          "name": "stdout",
          "text": [
            "Kích thước của list: 6\n"
          ]
        }
      ]
    },
    {
      "cell_type": "code",
      "metadata": {
        "colab": {
          "base_uri": "https://localhost:8080/"
        },
        "id": "KALQDTwRaq1m",
        "outputId": "fdd71af3-68a1-4520-a366-f7674259b34e"
      },
      "source": [
        "#8\n",
        "import random\n",
        "print(random.choice(list))"
      ],
      "execution_count": 47,
      "outputs": [
        {
          "output_type": "stream",
          "name": "stdout",
          "text": [
            "5\n"
          ]
        }
      ]
    },
    {
      "cell_type": "code",
      "metadata": {
        "colab": {
          "base_uri": "https://localhost:8080/"
        },
        "id": "HGi8gPDobZ68",
        "outputId": "e59dedc8-5c30-4217-bbd5-4c236672b686"
      },
      "source": [
        "#9\n",
        "print(list + list1)"
      ],
      "execution_count": 49,
      "outputs": [
        {
          "output_type": "stream",
          "name": "stdout",
          "text": [
            "[9, 5, 3, 8, 4, 2, 81, 97, 18, 19, 20]\n"
          ]
        }
      ]
    }
  ]
}