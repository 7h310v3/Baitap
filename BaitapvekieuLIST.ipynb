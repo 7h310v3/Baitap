{
  "nbformat": 4,
  "nbformat_minor": 0,
  "metadata": {
    "colab": {
      "name": "BaitapvekieuLIST.ipynb",
      "private_outputs": true,
      "provenance": [],
      "collapsed_sections": [],
      "authorship_tag": "ABX9TyPv7+WrO2UbeXWS8Kj9MQBt",
      "include_colab_link": true
    },
    "kernelspec": {
      "name": "python3",
      "display_name": "Python 3"
    },
    "language_info": {
      "name": "python"
    }
  },
  "cells": [
    {
      "cell_type": "markdown",
      "metadata": {
        "id": "view-in-github",
        "colab_type": "text"
      },
      "source": [
        "<a href=\"https://colab.research.google.com/github/7h310v3/Baitap/blob/main/BaitapvekieuLIST.ipynb\" target=\"_parent\"><img src=\"https://colab.research.google.com/assets/colab-badge.svg\" alt=\"Open In Colab\"/></a>"
      ]
    },
    {
      "cell_type": "code",
      "metadata": {
        "id": "wGZs5X5xHRe0"
      },
      "source": [
        "#Tạo biến x kiểu list rỗng\n",
        "x = []\n",
        "\n",
        "#Thêm 18 vào list x\n",
        "x.append(18)\n",
        "\n",
        "#Thêm \"Huế\" vào list x\n",
        "x.append(\"Huế\")\n",
        "\n",
        "#Tạo y kiểu list gồm [12, 45, -1, -0.56, \"abc\"]\n",
        "y = [12, 45, -1, -0.56, \"abc\"]\n",
        "\n",
        "#Thêm y vào x\n",
        "x += y\n",
        "\n",
        "#Xuất giá trị của x ra màn hình\n",
        "print(\"Các giá trị của x là:\", x)\n",
        "\n",
        "#In ra phần tử đầu tiên của x\n",
        "print(\"Phần tử đầu tiên của x:\", x[0])\n",
        "\n",
        "#In ra phần tử cuối cùng của x\n",
        "print(\"Phần tử cuối cùng của x:\", x[len(x)-1])\n",
        "\n",
        "#In ra màn hình giá trị phần tử đầu tiên đến phần tử thứ 5 của x\n",
        "print(\"Phần tử đầu tiên đến phần tử thứ 5 của x:\",x[0:4])\n",
        "\n",
        "#In ra màn hình giá trị của phần từ thứ 3 đến cuối cùng của x\n",
        "print(\"Phần tử thứ 3 đến phần tử cuối cùng của x:\", x[2:len(x)])\n",
        "\n"
      ],
      "execution_count": null,
      "outputs": []
    }
  ]
}