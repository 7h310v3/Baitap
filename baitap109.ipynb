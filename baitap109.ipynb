{
  "nbformat": 4,
  "nbformat_minor": 0,
  "metadata": {
    "colab": {
      "name": "baitap109.ipynb",
      "private_outputs": true,
      "provenance": [],
      "collapsed_sections": [],
      "authorship_tag": "ABX9TyN1wH2Ukgv0FgMrwrASifTo",
      "include_colab_link": true
    },
    "kernelspec": {
      "name": "python3",
      "display_name": "Python 3"
    },
    "language_info": {
      "name": "python"
    }
  },
  "cells": [
    {
      "cell_type": "markdown",
      "metadata": {
        "id": "view-in-github",
        "colab_type": "text"
      },
      "source": [
        "<a href=\"https://colab.research.google.com/github/7h310v3/Baitap/blob/main/baitap109.ipynb\" target=\"_parent\"><img src=\"https://colab.research.google.com/assets/colab-badge.svg\" alt=\"Open In Colab\"/></a>"
      ]
    },
    {
      "cell_type": "code",
      "metadata": {
        "id": "SdLVq6cxNxnN"
      },
      "source": [
        "#1\n",
        "count = 1\n",
        "\n",
        "while (count <= 10):\n",
        "  print(count, end = \" \")\n",
        "  count += 1"
      ],
      "execution_count": null,
      "outputs": []
    },
    {
      "cell_type": "code",
      "metadata": {
        "id": "53kveaECO6Zr"
      },
      "source": [
        "#2\n",
        "count = int(input(\"Nhập số dòng: \"))\n",
        "\n",
        "while (count >= 1):\n",
        "  count1 = count\n",
        "  while (count1 >= 1):\n",
        "    print(count1, end = \" \")\n",
        "    count1 = count1 - 1\n",
        "  count -= 1\n",
        "  print()"
      ],
      "execution_count": null,
      "outputs": []
    },
    {
      "cell_type": "code",
      "metadata": {
        "id": "LLc9sNjWSAi8"
      },
      "source": [
        "#3\n",
        "count = int(input(\"Nhập số: \"))\n",
        "\n",
        "sum = 0\n",
        "while (count >= 1):\n",
        "  sum +=  count\n",
        "  count -= 1\n",
        "\n",
        "print(sum)"
      ],
      "execution_count": null,
      "outputs": []
    },
    {
      "cell_type": "code",
      "metadata": {
        "id": "VP4w7ULMRuQO"
      },
      "source": [
        "#4\n",
        "num = int(input (\"Nhập số: \"))\n",
        "\n",
        "print (\"Bảng nhân của:\", num)\n",
        "\n",
        "dem = 1\n",
        "while (dem <= 10):\n",
        "    print (num, 'x', dem, '=', num * dem)\n",
        "    dem += 1"
      ],
      "execution_count": null,
      "outputs": []
    },
    {
      "cell_type": "code",
      "metadata": {
        "id": "f_QT__ucYgiU"
      },
      "source": [
        "#5\n",
        "list = [1, 2, 5, \"Huế\"]\n",
        "\n",
        "count =  0\n",
        "\n",
        "while (count <= (len(list)-1)):\n",
        "    print(list[count]) \n",
        "    count += 1"
      ],
      "execution_count": null,
      "outputs": []
    },
    {
      "cell_type": "code",
      "metadata": {
        "id": "tJ-kuw8IVBQG"
      },
      "source": [
        "#6\n",
        "count = int(input(\"Nhập số: \"))\n",
        "\n",
        "dem = 0\n",
        "while (count > 0):\n",
        "    dem += 1\n",
        "    count = count // 10\n",
        "\n",
        "print(\"Số chữ số là:\",dem)"
      ],
      "execution_count": null,
      "outputs": []
    },
    {
      "cell_type": "code",
      "metadata": {
        "id": "B-wwCqfGV7Ji"
      },
      "source": [
        "#7\n",
        "list = [1, 2, 5, \"Huế\"]\n",
        "\n",
        "count = len(a) - 1\n",
        "\n",
        "while (count >= 0):\n",
        "    print(list[count]) \n",
        "    count -= 1"
      ],
      "execution_count": null,
      "outputs": []
    },
    {
      "cell_type": "code",
      "metadata": {
        "id": "2fkSybgxXldE"
      },
      "source": [
        "#8\n",
        "count = -10\n",
        "while (count <= -1):\n",
        "  print(count, end = \" \")\n",
        "  count += 1"
      ],
      "execution_count": null,
      "outputs": []
    },
    {
      "cell_type": "code",
      "metadata": {
        "id": "Ame5qBddYDUR"
      },
      "source": [
        "#10\n",
        "import math\n",
        "\n",
        "lim = int(input(\"Nhập giới hạn: \"))\n",
        "num = 1\n",
        "\n",
        "while (lim < 0):\n",
        "  if (lim < 0):\n",
        "    print(\"Nhập sai, xin nhập lại !(> 0)\")\n",
        "    lim = int(input(\"Nhập giới hạn: \"))\n",
        "\n",
        "while (num <= lim):\n",
        "    count = 0\n",
        "    cus = 2\n",
        "    while (cus <= math.sqrt(num)):\n",
        "        if ((num % cus) == 0):\n",
        "            count = count + 1\n",
        "        cus = cus + 1\n",
        "    if (count == 0 and num != 1):\n",
        "        print(num, end = \" \")\n",
        "    num = num + 1"
      ],
      "execution_count": null,
      "outputs": []
    },
    {
      "cell_type": "code",
      "metadata": {
        "id": "xF8333RAaLyt"
      },
      "source": [
        "#11\n",
        "lim = int(input(\"Nhập giới hạn:\"))\n",
        "b, c = 0, 1\n",
        "\n",
        "while (lim < 0):\n",
        "  if (lim < 0):\n",
        "    print(\"Nhập sai, xin nhập lại!(> 0)\")\n",
        "    lim = int(input(\"Nhập giới hạn: \"))\n",
        "\n",
        "print(\"Fibonacci: \")\n",
        "i = 0\n",
        "while (i < lim):\n",
        "    print(b, end = \" \")\n",
        "    a = b + c\n",
        "    b = c\n",
        "    c = a\n",
        "    i += 1"
      ],
      "execution_count": null,
      "outputs": []
    },
    {
      "cell_type": "code",
      "metadata": {
        "id": "N83tL_GCbyIM"
      },
      "source": [
        "#12\n",
        "num = int(input(\"Nhập số cần tính: \"))\n",
        "\n",
        "while (num < 0):\n",
        "  if (num < 0):\n",
        "    print(\"Nhập sai, xin nhập lại!(> 0)\")\n",
        "    num = int(input(\"Nhập số cần tính: \"))\n",
        "\n",
        "fac = 1\n",
        "cus = 1\n",
        " \n",
        "while i <= num:\n",
        "  fac = fac * cus\n",
        "  cus = cus + 1\n",
        " \n",
        "print(num, \"! =\", gt)"
      ],
      "execution_count": null,
      "outputs": []
    },
    {
      "cell_type": "code",
      "metadata": {
        "id": "xXAkbi2xddEj"
      },
      "source": [
        "#13\n",
        "num = int(input(\"Nhập số cần đảo: \"))\n",
        "dao = 0\n",
        "\n",
        "while (num > 0):\n",
        "    dem = num % 10\n",
        "    dao = (dao * 10) + dem\n",
        "    num = num // 10\n",
        "\n",
        "print(\"Số sau khi đổi:\", dao)"
      ],
      "execution_count": null,
      "outputs": []
    },
    {
      "cell_type": "code",
      "metadata": {
        "id": "0kvMHYZQfsXu"
      },
      "source": [
        "#14\n",
        "list = [1, 2, 3, \"Huế\", \"ĐHH\", 912, 38]\n",
        "i = 0\n",
        "\n",
        "while (i <= len(list)-1):\n",
        "  if ((i % 2) == 1):\n",
        "    print(list[i])\n",
        "  i = i + 1"
      ],
      "execution_count": null,
      "outputs": []
    },
    {
      "cell_type": "code",
      "metadata": {
        "id": "0yKGV-Cjd2Km"
      },
      "source": [
        "#15\n",
        "lim = int(input(\"Nhập giới hạn: \"))\n",
        "cus = 1\n",
        "\n",
        "while (cus <= lim):\n",
        "    cube = cus*cus*cus\n",
        "    print(\"Lập phương của \", cus, \"=\",cube)\n",
        "    cus += 1\n"
      ],
      "execution_count": null,
      "outputs": []
    }
  ]
}