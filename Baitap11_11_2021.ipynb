{
  "nbformat": 4,
  "nbformat_minor": 0,
  "metadata": {
    "colab": {
      "name": "Baitap11_11_2021.ipynb",
      "private_outputs": true,
      "provenance": [],
      "collapsed_sections": [],
      "authorship_tag": "ABX9TyMhDbijvkS9J8lIaD9POYNs",
      "include_colab_link": true
    },
    "kernelspec": {
      "name": "python3",
      "display_name": "Python 3"
    },
    "language_info": {
      "name": "python"
    }
  },
  "cells": [
    {
      "cell_type": "markdown",
      "metadata": {
        "id": "view-in-github",
        "colab_type": "text"
      },
      "source": [
        "<a href=\"https://colab.research.google.com/github/7h310v3/Baitap/blob/main/Baitap11_11_2021.ipynb\" target=\"_parent\"><img src=\"https://colab.research.google.com/assets/colab-badge.svg\" alt=\"Open In Colab\"/></a>"
      ]
    },
    {
      "cell_type": "markdown",
      "metadata": {
        "id": "fB-HCzIEC4rF"
      },
      "source": [
        "```\n",
        "Bài 1: Lập trình nhập vào từ bàn phím 2 số nguyên và tính:\n",
        "```\n",
        "1. Tổng của 2 số\n",
        "2. Tích của 2 số\n",
        "3. Hiệu của 2 số\n",
        "4. Phép chia lấy phần dư của 2 số\n",
        "5. Phép chia lấy phần nguyên của 2 số"
      ]
    },
    {
      "cell_type": "code",
      "metadata": {
        "id": "7pwrEzNx_0HA"
      },
      "source": [
        "#Bài 1\n",
        "#Nhập 2 số \n",
        "a = int(input(\"So a: \"))\n",
        "b = int(input(\"So b: \"))\n",
        "\n",
        "#Tính và in ra tổng\n",
        "tong = a + b\n",
        "print(\"a + b = \",tong)\n",
        "\n",
        "#Tính và in ra tích\n",
        "tich = a * b\n",
        "print(\"a * b = \",tich)\n",
        "\n",
        "#Tính và in ra hiệu\n",
        "hieu = a - b\n",
        "print(\"a - b = \",hieu)\n",
        "\n",
        "#Chia lấy phần dư\n",
        "chiaphandu = a % b\n",
        "print(\"a % b = \", chiaphandu)\n",
        "\n",
        "#Chia lấy phần nguyên\n",
        "chiaphannguyen = int(a / b)\n",
        "print(\"a / b = \",chiaphannguyen)"
      ],
      "execution_count": null,
      "outputs": []
    },
    {
      "cell_type": "markdown",
      "metadata": {
        "id": "K81BovgTDeJE"
      },
      "source": [
        "\n",
        "Bài 2: Lập trình nhập vào từ bàn phím 2 số thực và tính:\n",
        "\n",
        "1. Tổng của 2 số\n",
        "2. Tích của 2 số\n",
        "3. Hiệu của 2 số\n",
        "4. Thương của 2 số\n",
        "Kết quả xuất ra màn hình"
      ]
    },
    {
      "cell_type": "code",
      "metadata": {
        "id": "6KBVBfeU_66A"
      },
      "source": [
        "#Bài 2\n",
        "#Nhập 2 số \n",
        "a = float(input(\"So a: \"))\n",
        "b = float(input(\"So b: \"))\n",
        "\n",
        "#Tính và in ra tổng\n",
        "tong = a + b\n",
        "print(\"a + b = \",tong)\n",
        "\n",
        "#Tính và in ra tích\n",
        "tich = a * b\n",
        "print(\"a * b = \",tich)\n",
        "\n",
        "#Tính và in ra hiệu\n",
        "hieu = a - b\n",
        "print(\"a - b = \",hieu)\n",
        "\n",
        "#Tính và in ra thương\n",
        "thuong = a / b\n",
        "print(\"a / b = \", thuong)\n"
      ],
      "execution_count": null,
      "outputs": []
    },
    {
      "cell_type": "markdown",
      "metadata": {
        "id": "NyDoiNAeDob8"
      },
      "source": [
        "\n",
        "Bài 3: (Sử dụng các hàm toán học) Nhập một số từ bàn phím và tính:\n",
        "\n",
        "1. Trị tuyệt đối\n",
        "2. Lấy phần nguyên của số\n",
        "3. Chuyển đổi thành số thực\n",
        "4. (nhập thêm 1 số từ bàn phím) và tính lũy thừa $ x^y $\n",
        "5. Tính căn bậc hai"
      ]
    },
    {
      "cell_type": "code",
      "metadata": {
        "id": "oMJ4O0wI_7om"
      },
      "source": [
        "#Bài 3\n",
        "import math\n",
        "\n",
        "#Nhập số\n",
        "so = float(input(\"Nhap so: \"))\n",
        "\n",
        "#Trị tuyệt đối \n",
        "print(\"Tri tuyet doi cua\", so,\"la: \", math.fabs(so))\n",
        "\n",
        "#Lấy phần nguyên \n",
        "print(\"Phan nguyen cua \", so, \"la: \", math.floor(so))\n",
        "\n",
        "#Chuyển thành số thực\n",
        "so =float(so)\n",
        "\n",
        "#Nhập thêm số và tính luỹ thừa\n",
        "so2 = float(input(\"Nhap so thu hai: \"))\n",
        "print(so, \" luy thua\", so2,\" = \", math.pow(so, so2))\n",
        "\n",
        "#Căn bậc hai\n",
        "if so<0:\n",
        "  print(\"Khong co can bac hai\")\n",
        "else:\n",
        "    print(\"Can bac hai cua \", so, \"la: \",math.sqrt(so))"
      ],
      "execution_count": null,
      "outputs": []
    },
    {
      "cell_type": "markdown",
      "metadata": {
        "id": "j14KqKmyDzcs"
      },
      "source": [
        "\n",
        "Bài 4: Nhập 2 số từ bàn phím và thực hiện các phép so sánh sau giữa 2 số:\n",
        "\n",
        "1. ≥\n",
        "2. ≤\n",
        "3. >\n",
        "4. <\n",
        "5. ≠"
      ]
    },
    {
      "cell_type": "code",
      "metadata": {
        "id": "nH-nEq4h_-k2"
      },
      "source": [
        "#Bài 4\n",
        "#Nhập 2 số a,b\n",
        "a = float(input(\"a = \"))\n",
        "b = float(input(\"b = \"))\n",
        "\n",
        "#Lớn hơn hoặc bằng\n",
        "print(\"a >= b: \", a >= b)\n",
        "\n",
        "#Bé hơn hoặc bằng\n",
        "print(\"a <= b: \", a <= b)\n",
        "\n",
        "#Lớn hơn \n",
        "print(\"a > b: \", a > b)\n",
        "\n",
        "#Bé hơn\n",
        "print(\"a < b: \", a < b)\n",
        "\n",
        "#Khác\n",
        "print(\"a != b: \", a != b)\n"
      ],
      "execution_count": null,
      "outputs": []
    },
    {
      "cell_type": "markdown",
      "metadata": {
        "id": "_6k3fkoPEz0M"
      },
      "source": [
        "\n",
        "Bài 5: Nhập 1 chuỗi ký tự từ bàn phím:\n",
        "\n",
        "1. Chuyển thành chuỗi in hoa\n",
        "2. Chuyển thành chuỗi in thường"
      ]
    },
    {
      "cell_type": "code",
      "metadata": {
        "id": "5ZZOUWymAAw2"
      },
      "source": [
        "#Bài 5\n",
        "chuoi = input(\"Nhap chuoi: \")\n",
        "\n",
        "#Chuyển thành chuỗi in hoa\n",
        "print(\"Chuoi sau khi chuyen thanh in hoa: \", chuoi.upper())\n",
        "\n",
        "#Chuyển thành chuỗi in thường \n",
        "print(\"Chuoi sau khi chuyen thanh in hoa: \", chuoi.lower())"
      ],
      "execution_count": null,
      "outputs": []
    },
    {
      "cell_type": "markdown",
      "metadata": {
        "id": "JRf10GFxE28b"
      },
      "source": [
        "\n",
        "Bài 6: Xuất ra màn hình 1 chuỗi ký từ nằm trên nhiều hàng (có thể là 1 bài thơ tùy ý bạn lựa chọn)"
      ]
    },
    {
      "cell_type": "code",
      "metadata": {
        "id": "AVQ4lV6_ACHe"
      },
      "source": [
        "#Bài 6\n",
        "tho = 'Yêu là chết ở trong lòng một ít\\nVì mấy khi yêu mà chắc được yêu\\nCho rất nhiều song nhận chẳng bao nhiêu\\nNgười ta phụ, hoặc thờ ơ, chẳng biết\\nPhút gần gũi cũng như giờ chia biệt\\nTưởng trăng tàn, hoa tạ, với hồn tiêu\\n'\n",
        "print(tho)\n",
        "\n"
      ],
      "execution_count": null,
      "outputs": []
    }
  ]
}