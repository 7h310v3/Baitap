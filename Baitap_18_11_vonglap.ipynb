{
  "nbformat": 4,
  "nbformat_minor": 0,
  "metadata": {
    "colab": {
      "name": "Baitap_18_11_vonglap.ipynb",
      "provenance": [],
      "collapsed_sections": [],
      "authorship_tag": "ABX9TyON3YJJhDD8hZXKDrUwD35n",
      "include_colab_link": true
    },
    "kernelspec": {
      "name": "python3",
      "display_name": "Python 3"
    },
    "language_info": {
      "name": "python"
    }
  },
  "cells": [
    {
      "cell_type": "markdown",
      "metadata": {
        "id": "view-in-github",
        "colab_type": "text"
      },
      "source": [
        "<a href=\"https://colab.research.google.com/github/7h310v3/Baitap/blob/main/Baitap_18_11_vonglap.ipynb\" target=\"_parent\"><img src=\"https://colab.research.google.com/assets/colab-badge.svg\" alt=\"Open In Colab\"/></a>"
      ]
    },
    {
      "cell_type": "code",
      "metadata": {
        "colab": {
          "base_uri": "https://localhost:8080/"
        },
        "id": "b72QPM9RwoC0",
        "outputId": "cd018f3d-19a8-4d6b-a5ef-c470871561e2"
      },
      "source": [
        "counter = 1\n",
        "n = 5\n",
        "\n",
        "while (counter <= n):\n",
        "  print(\"Hello world !!!\")\n",
        "  counter += 1\n",
        "print(\"Finished!!!\")"
      ],
      "execution_count": 2,
      "outputs": [
        {
          "output_type": "stream",
          "name": "stdout",
          "text": [
            "Hello world !!!\n",
            "Hello world !!!\n",
            "Hello world !!!\n",
            "Hello world !!!\n",
            "Hello world !!!\n",
            "Finished!!!\n"
          ]
        }
      ]
    },
    {
      "cell_type": "code",
      "metadata": {
        "colab": {
          "base_uri": "https://localhost:8080/"
        },
        "id": "IuJC29O81v-c",
        "outputId": "14f9aff5-f3da-4df0-d08b-6b46b3d8a821"
      },
      "source": [
        "#24\n",
        "\n",
        "for num in [1, 2, 3, 4, 5]:\n",
        "  print(num)"
      ],
      "execution_count": 5,
      "outputs": [
        {
          "output_type": "stream",
          "name": "stdout",
          "text": [
            "1\n",
            "2\n",
            "3\n",
            "4\n",
            "5\n"
          ]
        }
      ]
    },
    {
      "cell_type": "code",
      "metadata": {
        "colab": {
          "base_uri": "https://localhost:8080/"
        },
        "id": "yo_4DfzJ3f45",
        "outputId": "51a6aa86-8729-47e5-9fcf-8121ffd49dc6"
      },
      "source": [
        "#26\n",
        "for i in range(4):\n",
        "  print(i)"
      ],
      "execution_count": 6,
      "outputs": [
        {
          "output_type": "stream",
          "name": "stdout",
          "text": [
            "0\n",
            "1\n",
            "2\n",
            "3\n"
          ]
        }
      ]
    },
    {
      "cell_type": "code",
      "metadata": {
        "colab": {
          "base_uri": "https://localhost:8080/"
        },
        "id": "C7tBScMf3z-8",
        "outputId": "021939a1-0dab-4f93-8cc7-bd70a5d2408f"
      },
      "source": [
        "#28\n",
        "for v in range(4, 8):\n",
        "  print(v)"
      ],
      "execution_count": 8,
      "outputs": [
        {
          "output_type": "stream",
          "name": "stdout",
          "text": [
            "4\n",
            "5\n",
            "6\n",
            "7\n"
          ]
        }
      ]
    },
    {
      "cell_type": "code",
      "metadata": {
        "colab": {
          "base_uri": "https://localhost:8080/"
        },
        "id": "HV8JqgzZ4LYb",
        "outputId": "9d18170a-f89c-43ad-fb49-74206d272265"
      },
      "source": [
        "#29\n",
        "for v in range(3, 9, 2):\n",
        "  print(v)"
      ],
      "execution_count": 9,
      "outputs": [
        {
          "output_type": "stream",
          "name": "stdout",
          "text": [
            "3\n",
            "5\n",
            "7\n"
          ]
        }
      ]
    },
    {
      "cell_type": "code",
      "metadata": {
        "colab": {
          "base_uri": "https://localhost:8080/"
        },
        "id": "yPr_IWOX4WPJ",
        "outputId": "0c022cc1-5bd2-4ee8-acc3-10a52816f48f"
      },
      "source": [
        "#31\n",
        "for v in range(5, 1, -1):\n",
        "  print(v)"
      ],
      "execution_count": 10,
      "outputs": [
        {
          "output_type": "stream",
          "name": "stdout",
          "text": [
            "5\n",
            "4\n",
            "3\n",
            "2\n"
          ]
        }
      ]
    },
    {
      "cell_type": "code",
      "metadata": {
        "id": "itTXpnmb4X1n"
      },
      "source": [
        "#32\n",
        "for i in range(1, 5):\n",
        "  "
      ],
      "execution_count": null,
      "outputs": []
    },
    {
      "cell_type": "code",
      "metadata": {
        "id": "IFWIj4lT43Bk"
      },
      "source": [
        ""
      ],
      "execution_count": null,
      "outputs": []
    }
  ]
}