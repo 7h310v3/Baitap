{
  "nbformat": 4,
  "nbformat_minor": 0,
  "metadata": {
    "colab": {
      "name": "Baitap_18_11_vonglap.ipynb",
      "provenance": [],
      "collapsed_sections": [],
      "authorship_tag": "ABX9TyMKNGDLcYKnMIBGj3yhE+rP",
      "include_colab_link": true
    },
    "kernelspec": {
      "name": "python3",
      "display_name": "Python 3"
    },
    "language_info": {
      "name": "python"
    }
  },
  "cells": [
    {
      "cell_type": "markdown",
      "metadata": {
        "id": "view-in-github",
        "colab_type": "text"
      },
      "source": [
        "<a href=\"https://colab.research.google.com/github/7h310v3/Baitap/blob/main/Baitap_18_11_vonglap.ipynb\" target=\"_parent\"><img src=\"https://colab.research.google.com/assets/colab-badge.svg\" alt=\"Open In Colab\"/></a>"
      ]
    },
    {
      "cell_type": "code",
      "metadata": {
        "colab": {
          "base_uri": "https://localhost:8080/"
        },
        "id": "b72QPM9RwoC0",
        "outputId": "cd018f3d-19a8-4d6b-a5ef-c470871561e2"
      },
      "source": [
        "counter = 1\n",
        "n = 5\n",
        "\n",
        "while (counter <= n):\n",
        "  print(\"Hello world !!!\")\n",
        "  counter += 1\n",
        "print(\"Finished!!!\")"
      ],
      "execution_count": 2,
      "outputs": [
        {
          "output_type": "stream",
          "name": "stdout",
          "text": [
            "Hello world !!!\n",
            "Hello world !!!\n",
            "Hello world !!!\n",
            "Hello world !!!\n",
            "Hello world !!!\n",
            "Finished!!!\n"
          ]
        }
      ]
    },
    {
      "cell_type": "code",
      "metadata": {
        "colab": {
          "base_uri": "https://localhost:8080/"
        },
        "id": "wJENuDtd6vZd",
        "outputId": "c2aa9547-ae54-4403-b718-1b641ed7a871"
      },
      "source": [
        "#slide 26_27\n",
        "import getpass\n",
        "\n",
        "flag = False\n",
        "\n",
        "while not flag:\n",
        "  u = input(\"Username: \")\n",
        "  p = getpass.getpass(prompt=\"Password: \")\n",
        "  check = flag\n",
        "  if u == \"peter\" and p == \"Rj@is2019\":\n",
        "    check = True\n",
        "    print(\"You logged into the system.\")\n",
        "  if u == \"peter\" and p == \"Rj@is2019\":\n",
        "    check = True\n",
        "    print(\"You logged into the system.\")\n",
        "  else:\n",
        "    print(\"Either username or password is wrong.\")\n",
        "    ch = input(\"Do you want to continue? (y/n)\")\n",
        "  if ch == \"N\" or ch == \"n\":\n",
        "    check = True\n",
        "    flag = check\n",
        "print(\"Finished!\")"
      ],
      "execution_count": 12,
      "outputs": [
        {
          "output_type": "stream",
          "name": "stdout",
          "text": [
            "Username: thelove\n",
            "Password: ··········\n",
            "Either username or password is wrong.\n",
            "Do you want to continue? (y/n)y\n",
            "Username: peter\n",
            "Password: ··········\n",
            "You logged into the system.\n",
            "You logged into the system.\n",
            "Username: thelove\n",
            "Password: ··········\n",
            "Either username or password is wrong.\n",
            "Do you want to continue? (y/n)n\n",
            "Finished!\n"
          ]
        }
      ]
    },
    {
      "cell_type": "code",
      "metadata": {
        "colab": {
          "base_uri": "https://localhost:8080/"
        },
        "id": "L2PVobLt6_HN",
        "outputId": "1f493779-490e-432a-fb5a-60038f1eaa47"
      },
      "source": [
        "#slide 31-32\n",
        "import getpass\n",
        "\n",
        "flag = False\n",
        "while not flag:\n",
        "  u = input(\"Username: \")\n",
        "  p = getpass.getpass(prompt=\"Password: \")\n",
        "  flag = u == \"peter\" and p == \"Rj@is2019\"\n",
        "  if flag:\n",
        "    print(\"You logged into the system.\")\n",
        "  else:\n",
        "    print(\"Either username or password is wrong.\")\n",
        "    ch = input(\"Do you want to continue? (y/n)\")\n",
        "    flag = ch == \"N\" or ch == \"n\"\n",
        "print(\"Finished!\")"
      ],
      "execution_count": 13,
      "outputs": [
        {
          "output_type": "stream",
          "name": "stdout",
          "text": [
            "Username: thelove\n",
            "Password: ··········\n",
            "Either username or password is wrong.\n",
            "Do you want to continue? (y/n)n\n",
            "Finished!\n"
          ]
        }
      ]
    },
    {
      "cell_type": "markdown",
      "metadata": {
        "id": "JzLdoh1P8jzh"
      },
      "source": [
        "Slide Tiếng Anh"
      ]
    },
    {
      "cell_type": "code",
      "metadata": {
        "colab": {
          "base_uri": "https://localhost:8080/"
        },
        "id": "IuJC29O81v-c",
        "outputId": "14f9aff5-f3da-4df0-d08b-6b46b3d8a821"
      },
      "source": [
        "#24\n",
        "\n",
        "for num in [1, 2, 3, 4, 5]:\n",
        "  print(num)"
      ],
      "execution_count": 5,
      "outputs": [
        {
          "output_type": "stream",
          "name": "stdout",
          "text": [
            "1\n",
            "2\n",
            "3\n",
            "4\n",
            "5\n"
          ]
        }
      ]
    },
    {
      "cell_type": "code",
      "metadata": {
        "colab": {
          "base_uri": "https://localhost:8080/"
        },
        "id": "yo_4DfzJ3f45",
        "outputId": "51a6aa86-8729-47e5-9fcf-8121ffd49dc6"
      },
      "source": [
        "#26\n",
        "for i in range(4):\n",
        "  print(i)"
      ],
      "execution_count": 6,
      "outputs": [
        {
          "output_type": "stream",
          "name": "stdout",
          "text": [
            "0\n",
            "1\n",
            "2\n",
            "3\n"
          ]
        }
      ]
    },
    {
      "cell_type": "code",
      "metadata": {
        "colab": {
          "base_uri": "https://localhost:8080/"
        },
        "id": "C7tBScMf3z-8",
        "outputId": "021939a1-0dab-4f93-8cc7-bd70a5d2408f"
      },
      "source": [
        "#28\n",
        "for v in range(4, 8):\n",
        "  print(v)"
      ],
      "execution_count": 8,
      "outputs": [
        {
          "output_type": "stream",
          "name": "stdout",
          "text": [
            "4\n",
            "5\n",
            "6\n",
            "7\n"
          ]
        }
      ]
    },
    {
      "cell_type": "code",
      "metadata": {
        "colab": {
          "base_uri": "https://localhost:8080/"
        },
        "id": "HV8JqgzZ4LYb",
        "outputId": "9d18170a-f89c-43ad-fb49-74206d272265"
      },
      "source": [
        "#29\n",
        "for v in range(3, 9, 2):\n",
        "  print(v)"
      ],
      "execution_count": 9,
      "outputs": [
        {
          "output_type": "stream",
          "name": "stdout",
          "text": [
            "3\n",
            "5\n",
            "7\n"
          ]
        }
      ]
    },
    {
      "cell_type": "code",
      "metadata": {
        "colab": {
          "base_uri": "https://localhost:8080/"
        },
        "id": "yPr_IWOX4WPJ",
        "outputId": "0c022cc1-5bd2-4ee8-acc3-10a52816f48f"
      },
      "source": [
        "#31\n",
        "for v in range(5, 1, -1):\n",
        "  print(v)"
      ],
      "execution_count": 10,
      "outputs": [
        {
          "output_type": "stream",
          "name": "stdout",
          "text": [
            "5\n",
            "4\n",
            "3\n",
            "2\n"
          ]
        }
      ]
    },
    {
      "cell_type": "code",
      "metadata": {
        "colab": {
          "base_uri": "https://localhost:8080/"
        },
        "id": "itTXpnmb4X1n",
        "outputId": "71fd2ce5-0aaf-486c-ca67-e83c8dd7aa72"
      },
      "source": [
        "#32\n",
        "for i in range(1, 5):\n",
        "  for j in range(1,4):\n",
        "    print(\"i=\",i,\"j=\",j)\n"
      ],
      "execution_count": 11,
      "outputs": [
        {
          "output_type": "stream",
          "name": "stdout",
          "text": [
            "i= 1 j= 1\n",
            "i= 1 j= 2\n",
            "i= 1 j= 3\n",
            "i= 2 j= 1\n",
            "i= 2 j= 2\n",
            "i= 2 j= 3\n",
            "i= 3 j= 1\n",
            "i= 3 j= 2\n",
            "i= 3 j= 3\n",
            "i= 4 j= 1\n",
            "i= 4 j= 2\n",
            "i= 4 j= 3\n"
          ]
        }
      ]
    },
    {
      "cell_type": "code",
      "metadata": {
        "id": "IFWIj4lT43Bk"
      },
      "source": [
        ""
      ],
      "execution_count": null,
      "outputs": []
    }
  ]
}