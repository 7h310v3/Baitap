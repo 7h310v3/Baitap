{
  "nbformat": 4,
  "nbformat_minor": 0,
  "metadata": {
    "colab": {
      "name": "slide52&53.ipynb",
      "provenance": [],
      "collapsed_sections": [],
      "authorship_tag": "ABX9TyMWGCE1gc1zxhF4ZEFCFUDq",
      "include_colab_link": true
    },
    "kernelspec": {
      "name": "python3",
      "display_name": "Python 3"
    },
    "language_info": {
      "name": "python"
    }
  },
  "cells": [
    {
      "cell_type": "markdown",
      "metadata": {
        "id": "view-in-github",
        "colab_type": "text"
      },
      "source": [
        "<a href=\"https://colab.research.google.com/github/7h310v3/Baitap/blob/main/slide52%2653.ipynb\" target=\"_parent\"><img src=\"https://colab.research.google.com/assets/colab-badge.svg\" alt=\"Open In Colab\"/></a>"
      ]
    },
    {
      "cell_type": "code",
      "metadata": {
        "colab": {
          "base_uri": "https://localhost:8080/"
        },
        "id": "Y9LxLwEc52pg",
        "outputId": "2288dc88-29c4-463c-eeb2-7835ce5eb71d"
      },
      "source": [
        "#52\n",
        "#nhập vào số tiền đã vay\n",
        "loanAmount = float(input('Nhap so tien da vay: '))\n",
        "\n",
        "#nhập vào lãi suất hàng tháng\n",
        "monthlyInteresRate = float(input('Nhap lai suat hang thang: '))\n",
        "\n",
        "#nhập vào số năm vay\n",
        "numberofyears = float(input('Nhap nhap vao so nam vay: '))\n",
        "\n",
        "#tính số tiền phải trả hàng tháng\n",
        "monthlyPayment = (loanAmount*monthlyInteresRate)/(1-1/(1+monthlyInteresRate)**(numberofyears*12))\n",
        "\n",
        "#in ra số tiền cần trả\n",
        "print(\"So tien can tra la: \",monthlyPayment)"
      ],
      "execution_count": 8,
      "outputs": [
        {
          "output_type": "stream",
          "name": "stdout",
          "text": [
            "Nhap so tien da vay: 100000000\n",
            "Nhap lai suat hang thang: 0.02\n",
            "Nhap nhap vao so nam vay: 5\n",
            "So tien can tra la:  2876796.582580632\n"
          ]
        }
      ]
    },
    {
      "cell_type": "code",
      "metadata": {
        "colab": {
          "base_uri": "https://localhost:8080/"
        },
        "id": "LPi0oJ7Z8Kwu",
        "outputId": "e2dd79be-edca-499d-b597-24cd4b27bb06"
      },
      "source": [
        "#53\n",
        "#thêm thư viện math\n",
        "import math\n",
        "#nhập toạ độ điểm M(x1,y1)\n",
        "x1 = float(input('Nhap x1: '))\n",
        "y1 = float(input('Nhap y1: '))\n",
        "\n",
        "#nhập toạ độ điểm N(x2,y2)\n",
        "x2 = float(input('Nhap x2: '))\n",
        "y2 = float(input('Nhap y2: '))\n",
        "\n",
        "#khoảng cách giữa hai điểm MN\n",
        "khoangcach = math.sqrt((x2-x1)**2 + (y2-y1)**2)\n",
        "\n",
        "#in ra khoảng cách giữa 2 điểm MN\n",
        "print(khoangcach)"
      ],
      "execution_count": 3,
      "outputs": [
        {
          "output_type": "stream",
          "name": "stdout",
          "text": [
            "Nhap x1: 5\n",
            "Nhap y1: 2\n",
            "Nhap x2: 4\n",
            "Nhap y2: 9\n",
            "7.0710678118654755\n"
          ]
        }
      ]
    }
  ]
}