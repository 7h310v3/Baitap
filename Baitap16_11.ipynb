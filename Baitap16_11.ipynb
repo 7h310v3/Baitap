{
  "nbformat": 4,
  "nbformat_minor": 0,
  "metadata": {
    "colab": {
      "name": "Baitap16_11.ipynb",
      "provenance": [],
      "collapsed_sections": [],
      "authorship_tag": "ABX9TyNCaozpuPyHKRtkohRIwEzb",
      "include_colab_link": true
    },
    "kernelspec": {
      "name": "python3",
      "display_name": "Python 3"
    },
    "language_info": {
      "name": "python"
    }
  },
  "cells": [
    {
      "cell_type": "markdown",
      "metadata": {
        "id": "view-in-github",
        "colab_type": "text"
      },
      "source": [
        "<a href=\"https://colab.research.google.com/github/7h310v3/Baitap/blob/main/Baitap16_11.ipynb\" target=\"_parent\"><img src=\"https://colab.research.google.com/assets/colab-badge.svg\" alt=\"Open In Colab\"/></a>"
      ]
    },
    {
      "cell_type": "code",
      "metadata": {
        "colab": {
          "base_uri": "https://localhost:8080/"
        },
        "id": "6Ks5XDx_Yhup",
        "outputId": "293000c3-e292-4ea0-fc17-c3b1c55222a2"
      },
      "source": [
        "#1\n",
        "x = []\n",
        "#2\n",
        "x.append(18)\n",
        "#3\n",
        "x.append(\"Huế\")\n",
        "#4\n",
        "y = [12, 45, -1, -0.56, \"abc\"]\n",
        "#5\n",
        "x.extend(y)\n",
        "#6 \n",
        "print(x)\n",
        "#7\n",
        "print(\"Phần tử cuối cùng của x:\",x[0])\n",
        "print(\"Phần tử đầu tiên của x:\",x[(len(x) - 1)])\n",
        "#8\n",
        "print(\"Phần tử đầu tiên đến phần tử thứ 5 của x là: \", x[0:5])\n",
        "#9\n",
        "print(\"Phần tử thứ 3 đến phần tử cuối cùng của x là: \", x[2:len(x)])"
      ],
      "execution_count": 14,
      "outputs": [
        {
          "output_type": "stream",
          "name": "stdout",
          "text": [
            "[18, 'Huế', 12, 45, -1, -0.56, 'abc']\n",
            "Phần tử cuối cùng của x: 18\n",
            "Phần tử đầu tiên của x: abc\n",
            "Phần tử đầu tiên đến phần tử thứ 5 của x là:  [18, 'Huế', 12, 45, -1]\n",
            "Phần tử thứ 3 đến phần tử cuối cùng của x là:  [12, 45, -1, -0.56, 'abc']\n"
          ]
        }
      ]
    }
  ]
}