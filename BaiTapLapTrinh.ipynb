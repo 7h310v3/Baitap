{
  "nbformat": 4,
  "nbformat_minor": 0,
  "metadata": {
    "colab": {
      "name": "BaiTapLapTrinh.ipynb",
      "provenance": [],
      "collapsed_sections": [],
      "authorship_tag": "ABX9TyMibS8Zq212OizG/WYONMUv",
      "include_colab_link": true
    },
    "kernelspec": {
      "name": "python3",
      "display_name": "Python 3"
    },
    "language_info": {
      "name": "python"
    }
  },
  "cells": [
    {
      "cell_type": "markdown",
      "metadata": {
        "id": "view-in-github",
        "colab_type": "text"
      },
      "source": [
        "<a href=\"https://colab.research.google.com/github/7h310v3/Baitap/blob/main/BaiTapLapTrinh.ipynb\" target=\"_parent\"><img src=\"https://colab.research.google.com/assets/colab-badge.svg\" alt=\"Open In Colab\"/></a>"
      ]
    },
    {
      "cell_type": "code",
      "metadata": {
        "id": "JDqX6gH4BLQq",
        "colab": {
          "base_uri": "https://localhost:8080/"
        },
        "outputId": "991b80a2-3d50-4a30-c442-610247ab1c6a"
      },
      "source": [
        "#Bài 1\n",
        "#Nhập 2 số \n",
        "a = int(input(\"So a: \"))\n",
        "b = int(input(\"So b: \"))\n",
        "\n",
        "#Tính và in ra tổng\n",
        "tong = a + b\n",
        "print(\"a + b = \",tong)\n",
        "\n",
        "#Tính và in ra tích\n",
        "tich = a * b\n",
        "print(\"a * b = \",tich)\n",
        "\n",
        "#Tính và in ra hiệu\n",
        "hieu = a - b\n",
        "print(\"a - b = \",hieu)\n",
        "\n",
        "#Chia lấy phần dư\n",
        "chiaphandu = a % b\n",
        "print(\"a % b = \", chiaphandu)\n",
        "\n",
        "#Chia lấy phần nguyên\n",
        "chiaphannguyen = int(a / b)\n",
        "print(\"a / b = \",chiaphannguyen)"
      ],
      "execution_count": 3,
      "outputs": [
        {
          "output_type": "stream",
          "name": "stdout",
          "text": [
            "So a: 12\n",
            "So b: 9\n",
            "a + b =  21\n",
            "a * b =  108\n",
            "a - b =  3\n",
            "a % b =  3\n",
            "a / b =  1\n"
          ]
        }
      ]
    },
    {
      "cell_type": "code",
      "metadata": {
        "colab": {
          "base_uri": "https://localhost:8080/"
        },
        "id": "GKtlSmWsD-gJ",
        "outputId": "d62af0c8-5ed9-46eb-ad8d-1fac60acd298"
      },
      "source": [
        "#Bai2\n",
        "#Nhập 2 số \n",
        "a = float(input(\"So a: \"))\n",
        "b = float(input(\"So b: \"))\n",
        "\n",
        "#Tính và in ra tổng\n",
        "tong = a + b\n",
        "print(\"a + b = \",tong)\n",
        "\n",
        "#Tính và in ra tích\n",
        "tich = a * b\n",
        "print(\"a * b = \",tich)\n",
        "\n",
        "#Tính và in ra hiệu\n",
        "hieu = a - b\n",
        "print(\"a - b = \",hieu)\n",
        "\n",
        "#Tính và in ra thương\n",
        "thuong = a / b\n",
        "print(\"a / b = \", thuong)\n"
      ],
      "execution_count": 4,
      "outputs": [
        {
          "output_type": "stream",
          "name": "stdout",
          "text": [
            "So a: 1.3\n",
            "So b: 0.9\n",
            "a + b =  2.2\n",
            "a * b =  1.1700000000000002\n",
            "a - b =  0.4\n",
            "a / b =  1.4444444444444444\n"
          ]
        }
      ]
    },
    {
      "cell_type": "code",
      "metadata": {
        "colab": {
          "base_uri": "https://localhost:8080/"
        },
        "id": "OQ88fk-KEeRb",
        "outputId": "084e6422-a016-4f1b-da66-d96da12e8213"
      },
      "source": [
        "#Bài 3\n",
        "import math\n",
        "\n",
        "#Nhập số\n",
        "so = float(input(\"Nhap so: \"))\n",
        "\n",
        "#Trị tuyệt đối \n",
        "print(\"Tri tuyet doi cua\", so,\"la: \", math.fabs(so))\n",
        "\n",
        "#Lấy phần nguyên \n",
        "print(\"Phan nguyen cua \", so, \"la: \", math.floor(so))\n",
        "\n",
        "#Chuyển thành số thực\n",
        "so =float(so)\n",
        "\n",
        "#Nhập thêm số và tính luỹ thừa\n",
        "so2 = float(input(\"Nhap so thu hai: \"))\n",
        "print(so2, \" luy thua\", so,\" = \", math.pow(so, so2))\n",
        "\n",
        "#Căn bậc hai\n",
        "if so<0:\n",
        "  print(\"Khong co can bac hai\")\n",
        "else:\n",
        "    print(\"Can bac hai cua \", so, \"la: \",math.sqrt(so))"
      ],
      "execution_count": 29,
      "outputs": [
        {
          "output_type": "stream",
          "name": "stdout",
          "text": [
            "Nhap so: -6.2\n",
            "Tri tuyet doi cua -6.2 la:  6.2\n",
            "Phan nguyen cua  -6.2 la:  -7\n",
            "Nhap so thu hai: 3\n",
            "3.0  luy thua -6.2  =  -238.32800000000003\n",
            "Khong co can bac hai\n"
          ]
        }
      ]
    },
    {
      "cell_type": "code",
      "metadata": {
        "colab": {
          "base_uri": "https://localhost:8080/"
        },
        "id": "9OWvLF8KjTg-",
        "outputId": "0bc5b0fb-7500-45c9-95ca-ff3518c6efbe"
      },
      "source": [
        "#Bài 4\n",
        "#Nhập 2 số a,b\n",
        "a = float(input(\"a = \"))\n",
        "b = float(input(\"b = \"))\n",
        "\n",
        "#Lớn hơn hoặc bằng\n",
        "print(\"a >= b: \", a >= b)\n",
        "\n",
        "#Bé hơn hoặc bằng\n",
        "print(\"a <= b: \", a <= b)\n",
        "\n",
        "#Lớn hơn \n",
        "print(\"a > b: \", a > b)\n",
        "\n",
        "#Bé hơn\n",
        "print(\"a < b: \", a < b)\n",
        "\n",
        "#Khác\n",
        "print(\"a != b: \", a != b)\n"
      ],
      "execution_count": 8,
      "outputs": [
        {
          "output_type": "stream",
          "name": "stdout",
          "text": [
            "a = 5\n",
            "b = 6\n",
            "a >= b:  False\n",
            "a <= b:  True\n",
            "a > b:  False\n",
            "a < b:  True\n",
            "a != b:  True\n"
          ]
        }
      ]
    },
    {
      "cell_type": "code",
      "metadata": {
        "colab": {
          "base_uri": "https://localhost:8080/"
        },
        "id": "egJtrM-WKg2l",
        "outputId": "75f78f95-003a-4212-e0b1-96d9e15c5faa"
      },
      "source": [
        "#Bài 5\n",
        "chuoi = input(\"Nhap chuoi: \")\n",
        "\n",
        "#Chuyển thành chuỗi in hoa\n",
        "print(\"Chuoi sau khi chuyen thanh in hoa: \", chuoi.upper())\n",
        "\n",
        "#Chuyển thành chuỗi in thường \n",
        "print(\"Chuoi sau khi chuyen thanh in hoa: \", chuoi.lower())"
      ],
      "execution_count": 18,
      "outputs": [
        {
          "output_type": "stream",
          "name": "stdout",
          "text": [
            "Nhap chuoi: Xin Chao Cac Ban\n",
            "Chuoi sau khi chuyen thanh in hoa:  XIN CHAO CAC BAN\n",
            "Chuoi sau khi chuyen thanh in hoa:  xin chao cac ban\n"
          ]
        }
      ]
    },
    {
      "cell_type": "code",
      "metadata": {
        "colab": {
          "base_uri": "https://localhost:8080/"
        },
        "id": "LfqW8UUCLklT",
        "outputId": "f16a7191-8413-4d9f-ee38-6f9b6c8a29df"
      },
      "source": [
        "#Bài 6\n",
        "tho = 'Yêu là chết ở trong lòng một ít\\nVì mấy khi yêu mà chắc được yêu\\nCho rất nhiều song nhận chẳng bao nhiêu\\nNgười ta phụ, hoặc thờ ơ, chẳng biết\\nPhút gần gũi cũng như giờ chia biệt\\nTưởng trăng tàn, hoa tạ, với hồn tiêu\\n'\n",
        "print(tho)\n",
        "\n"
      ],
      "execution_count": 9,
      "outputs": [
        {
          "output_type": "stream",
          "name": "stdout",
          "text": [
            "Yêu là chết ở trong lòng một ít\n",
            "Vì mấy khi yêu mà chắc được yêu\n",
            "Cho rất nhiều song nhận chẳng bao nhiêu\n",
            "Người ta phụ, hoặc thờ ơ, chẳng biết\n",
            "Phút gần gũi cũng như giờ chia biệt\n",
            "Tưởng trăng tàn, hoa tạ, với hồn tiêu\n",
            "\n"
          ]
        }
      ]
    }
  ]
}