{
  "nbformat": 4,
  "nbformat_minor": 0,
  "metadata": {
    "colab": {
      "name": "sapxepbyTrungdauan.ipynb",
      "provenance": [],
      "collapsed_sections": [],
      "authorship_tag": "ABX9TyMVc394RCgCVhQz4FK26geC",
      "include_colab_link": true
    },
    "kernelspec": {
      "name": "python3",
      "display_name": "Python 3"
    },
    "language_info": {
      "name": "python"
    }
  },
  "cells": [
    {
      "cell_type": "markdown",
      "metadata": {
        "id": "view-in-github",
        "colab_type": "text"
      },
      "source": [
        "<a href=\"https://colab.research.google.com/github/7h310v3/Baitap/blob/main/sapxepbyTrungdauan.ipynb\" target=\"_parent\"><img src=\"https://colab.research.google.com/assets/colab-badge.svg\" alt=\"Open In Colab\"/></a>"
      ]
    },
    {
      "cell_type": "code",
      "metadata": {
        "colab": {
          "base_uri": "https://localhost:8080/"
        },
        "id": "M6EZHbEKnbhI",
        "outputId": "829e547d-ff68-4c61-9ac0-39768ea17f3b"
      },
      "source": [
        "#Sắp xếp mảng tăng dần / giảm dần trong python\n",
        "\n",
        "#nhập dữ liệu cho mảng\n",
        "def enter_num():\n",
        "    global num\n",
        "    print('Nhập dữ liệu xong thì nhập (Done) hoặc (done)')\n",
        "    while True:\n",
        "        x = input('Dữ liệu cần nhập cho mảng: ')\n",
        "        if x == 'Done' or x == 'done':\n",
        "            print('Dữ liệu đã nhập thành công')\n",
        "            break\n",
        "        num.append(float(x))\n",
        "\n",
        "#sắp xếp\n",
        "def sort_array(num):\n",
        "    print('Kiểu sắp xếp bạn muốn:\\n (1)Tăng dần \\n (2)Giảm dần')\n",
        "    choice = int(input('Lựa chọn của bạn: '))\n",
        "    if (choice == 1):\n",
        "        for i in range (0, len(num)-1):\n",
        "            for j in range (i+1, len(num)):\n",
        "                if num[i] > num[j]:\n",
        "                    tmp = num[j]\n",
        "                    num[j] = num[i]\n",
        "                    num[i] = tmp\n",
        "        return num\n",
        "    if (choice == 2):\n",
        "        for i in range (0, len(num)-1):\n",
        "            for j in range (i+1, len(num)):\n",
        "                if num[i] < num[j]:\n",
        "                    tmp = num[j]\n",
        "                    num[j] = num[i]3\n",
        "                    num[i] = tmp\n",
        "        return num\n",
        "\n",
        "#chạy chương trình\n",
        "num = []\n",
        "enter_num()\n",
        "print('Dữ liệu của mảng sau khi nhập:', sort_array(num))"
      ],
      "execution_count": 1,
      "outputs": [
        {
          "output_type": "stream",
          "name": "stdout",
          "text": [
            "Nhập dữ liệu xong thì nhập (Done) hoặc (done)\n",
            "Dữ liệu cần nhập cho mảng: -5\n",
            "Dữ liệu cần nhập cho mảng: 2\n",
            "Dữ liệu cần nhập cho mảng: 3\n",
            "Dữ liệu cần nhập cho mảng: -8\n",
            "Dữ liệu cần nhập cho mảng: 0\n",
            "Dữ liệu cần nhập cho mảng: 4\n",
            "Dữ liệu cần nhập cho mảng: 3\n",
            "Dữ liệu cần nhập cho mảng: 9\n",
            "Dữ liệu cần nhập cho mảng: done\n",
            "Dữ liệu đã nhập thành công\n",
            "Kiểu sắp xếp bạn muốn:\n",
            " (1)Tăng dần \n",
            " (2)Giảm dần\n",
            "Lựa chọn của bạn: 1\n",
            "Dữ liệu của mảng sau khi nhập: [-8.0, -5.0, 0.0, 2.0, 3.0, 3.0, 4.0, 9.0]\n"
          ]
        }
      ]
    }
  ]
}